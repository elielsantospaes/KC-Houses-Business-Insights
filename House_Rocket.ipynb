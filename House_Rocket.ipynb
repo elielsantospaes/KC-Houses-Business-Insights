{
 "cells": [
  {
   "cell_type": "code",
   "execution_count": 1,
   "id": "8bf2eafd",
   "metadata": {},
   "outputs": [
    {
     "data": {
      "text/html": [
       "<div>\n",
       "<style scoped>\n",
       "    .dataframe tbody tr th:only-of-type {\n",
       "        vertical-align: middle;\n",
       "    }\n",
       "\n",
       "    .dataframe tbody tr th {\n",
       "        vertical-align: top;\n",
       "    }\n",
       "\n",
       "    .dataframe thead th {\n",
       "        text-align: right;\n",
       "    }\n",
       "</style>\n",
       "<table border=\"1\" class=\"dataframe\">\n",
       "  <thead>\n",
       "    <tr style=\"text-align: right;\">\n",
       "      <th></th>\n",
       "      <th>id</th>\n",
       "      <th>date</th>\n",
       "      <th>price</th>\n",
       "      <th>bedrooms</th>\n",
       "      <th>bathrooms</th>\n",
       "      <th>sqft_living</th>\n",
       "      <th>sqft_lot</th>\n",
       "      <th>floors</th>\n",
       "      <th>waterfront</th>\n",
       "      <th>view</th>\n",
       "      <th>...</th>\n",
       "      <th>grade</th>\n",
       "      <th>sqft_above</th>\n",
       "      <th>sqft_basement</th>\n",
       "      <th>yr_built</th>\n",
       "      <th>yr_renovated</th>\n",
       "      <th>zipcode</th>\n",
       "      <th>lat</th>\n",
       "      <th>long</th>\n",
       "      <th>sqft_living15</th>\n",
       "      <th>sqft_lot15</th>\n",
       "    </tr>\n",
       "  </thead>\n",
       "  <tbody>\n",
       "    <tr>\n",
       "      <th>0</th>\n",
       "      <td>7129300520</td>\n",
       "      <td>20141013T000000</td>\n",
       "      <td>221900.0</td>\n",
       "      <td>3</td>\n",
       "      <td>1.00</td>\n",
       "      <td>1180</td>\n",
       "      <td>5650</td>\n",
       "      <td>1.0</td>\n",
       "      <td>0</td>\n",
       "      <td>0</td>\n",
       "      <td>...</td>\n",
       "      <td>7</td>\n",
       "      <td>1180.0</td>\n",
       "      <td>0</td>\n",
       "      <td>1955</td>\n",
       "      <td>0</td>\n",
       "      <td>98178</td>\n",
       "      <td>47.5112</td>\n",
       "      <td>-122.257</td>\n",
       "      <td>1340</td>\n",
       "      <td>5650</td>\n",
       "    </tr>\n",
       "    <tr>\n",
       "      <th>1</th>\n",
       "      <td>6414100192</td>\n",
       "      <td>20141209T000000</td>\n",
       "      <td>538000.0</td>\n",
       "      <td>3</td>\n",
       "      <td>2.25</td>\n",
       "      <td>2570</td>\n",
       "      <td>7242</td>\n",
       "      <td>2.0</td>\n",
       "      <td>0</td>\n",
       "      <td>0</td>\n",
       "      <td>...</td>\n",
       "      <td>7</td>\n",
       "      <td>2170.0</td>\n",
       "      <td>400</td>\n",
       "      <td>1951</td>\n",
       "      <td>1991</td>\n",
       "      <td>98125</td>\n",
       "      <td>47.7210</td>\n",
       "      <td>-122.319</td>\n",
       "      <td>1690</td>\n",
       "      <td>7639</td>\n",
       "    </tr>\n",
       "    <tr>\n",
       "      <th>2</th>\n",
       "      <td>5631500400</td>\n",
       "      <td>20150225T000000</td>\n",
       "      <td>180000.0</td>\n",
       "      <td>2</td>\n",
       "      <td>1.00</td>\n",
       "      <td>770</td>\n",
       "      <td>10000</td>\n",
       "      <td>1.0</td>\n",
       "      <td>0</td>\n",
       "      <td>0</td>\n",
       "      <td>...</td>\n",
       "      <td>6</td>\n",
       "      <td>770.0</td>\n",
       "      <td>0</td>\n",
       "      <td>1933</td>\n",
       "      <td>0</td>\n",
       "      <td>98028</td>\n",
       "      <td>47.7379</td>\n",
       "      <td>-122.233</td>\n",
       "      <td>2720</td>\n",
       "      <td>8062</td>\n",
       "    </tr>\n",
       "    <tr>\n",
       "      <th>3</th>\n",
       "      <td>2487200875</td>\n",
       "      <td>20141209T000000</td>\n",
       "      <td>604000.0</td>\n",
       "      <td>4</td>\n",
       "      <td>3.00</td>\n",
       "      <td>1960</td>\n",
       "      <td>5000</td>\n",
       "      <td>1.0</td>\n",
       "      <td>0</td>\n",
       "      <td>0</td>\n",
       "      <td>...</td>\n",
       "      <td>7</td>\n",
       "      <td>1050.0</td>\n",
       "      <td>910</td>\n",
       "      <td>1965</td>\n",
       "      <td>0</td>\n",
       "      <td>98136</td>\n",
       "      <td>47.5208</td>\n",
       "      <td>-122.393</td>\n",
       "      <td>1360</td>\n",
       "      <td>5000</td>\n",
       "    </tr>\n",
       "    <tr>\n",
       "      <th>4</th>\n",
       "      <td>1954400510</td>\n",
       "      <td>20150218T000000</td>\n",
       "      <td>510000.0</td>\n",
       "      <td>3</td>\n",
       "      <td>2.00</td>\n",
       "      <td>1680</td>\n",
       "      <td>8080</td>\n",
       "      <td>1.0</td>\n",
       "      <td>0</td>\n",
       "      <td>0</td>\n",
       "      <td>...</td>\n",
       "      <td>8</td>\n",
       "      <td>1680.0</td>\n",
       "      <td>0</td>\n",
       "      <td>1987</td>\n",
       "      <td>0</td>\n",
       "      <td>98074</td>\n",
       "      <td>47.6168</td>\n",
       "      <td>-122.045</td>\n",
       "      <td>1800</td>\n",
       "      <td>7503</td>\n",
       "    </tr>\n",
       "  </tbody>\n",
       "</table>\n",
       "<p>5 rows × 21 columns</p>\n",
       "</div>"
      ],
      "text/plain": [
       "           id             date     price  bedrooms  bathrooms  sqft_living  \\\n",
       "0  7129300520  20141013T000000  221900.0         3       1.00         1180   \n",
       "1  6414100192  20141209T000000  538000.0         3       2.25         2570   \n",
       "2  5631500400  20150225T000000  180000.0         2       1.00          770   \n",
       "3  2487200875  20141209T000000  604000.0         4       3.00         1960   \n",
       "4  1954400510  20150218T000000  510000.0         3       2.00         1680   \n",
       "\n",
       "   sqft_lot  floors  waterfront  view  ...  grade  sqft_above  sqft_basement  \\\n",
       "0      5650     1.0           0     0  ...      7      1180.0              0   \n",
       "1      7242     2.0           0     0  ...      7      2170.0            400   \n",
       "2     10000     1.0           0     0  ...      6       770.0              0   \n",
       "3      5000     1.0           0     0  ...      7      1050.0            910   \n",
       "4      8080     1.0           0     0  ...      8      1680.0              0   \n",
       "\n",
       "   yr_built  yr_renovated  zipcode      lat     long  sqft_living15  \\\n",
       "0      1955             0    98178  47.5112 -122.257           1340   \n",
       "1      1951          1991    98125  47.7210 -122.319           1690   \n",
       "2      1933             0    98028  47.7379 -122.233           2720   \n",
       "3      1965             0    98136  47.5208 -122.393           1360   \n",
       "4      1987             0    98074  47.6168 -122.045           1800   \n",
       "\n",
       "   sqft_lot15  \n",
       "0        5650  \n",
       "1        7639  \n",
       "2        8062  \n",
       "3        5000  \n",
       "4        7503  \n",
       "\n",
       "[5 rows x 21 columns]"
      ]
     },
     "execution_count": 1,
     "metadata": {},
     "output_type": "execute_result"
    }
   ],
   "source": [
    "import pandas as pd\n",
    "import numpy as np\n",
    "import plotly.express as px\n",
    "data = pd.read_csv('dataset/kc_house_data.csv')\n",
    "data.head()"
   ]
  },
  {
   "cell_type": "code",
   "execution_count": 3,
   "id": "95bf43b5",
   "metadata": {},
   "outputs": [],
   "source": [
    "def remove_outliers(data, column):\n",
    "        \n",
    "    # Defining the quartiles\n",
    "    Q1 = np.quantile(data[column], 0.25, interpolation = 'midpoint')\n",
    "    # Q2 = np.quantile(data[column], 0.50, interpolation = 'midpoint')\n",
    "    Q3 = np.quantile(data[column], 0.75, interpolation = 'midpoint') \n",
    "    FIQ = Q3 - Q1\n",
    "    \n",
    "    # Removing lowers outliers\n",
    "    data = data.loc[data[column] > ( Q1 - 1.5*FIQ )]\n",
    "\n",
    "    # Removing highers outliers\n",
    "    data = data.loc[data[column] < ( Q3 + 1.5*FIQ )]\n",
    "    \n",
    "    data.reset_index(inplace = True)\n",
    "    data.drop(columns = 'index', axis = 1, inplace= True)\n",
    "    return data\n",
    "\n",
    "data = remove_outliers(data, 'price')\n",
    "\n",
    "def take_houses(data, house_data,H):\n",
    "    sample = pd.DataFrame()\n",
    "    data_aux = pd.DataFrame()\n",
    "    for dado in house_data:\n",
    "        data_aux = data.loc[data['id'] == dado[3]]\n",
    "        sample = pd.concat([sample, data_aux])\n",
    "        \n",
    "    print('Este é o tamnho da amostra = ',len(sample))\n",
    "    sample.drop_duplicates(inplace = True)\n",
    "    print('Este é o tamnho da amostra = ',len(sample))\n",
    "    sample.reset_index(inplace = True)\n",
    "    for i in range(len(sample)):\n",
    "        for dado in house_data:\n",
    "            if sample.loc[i, 'id'] == dado[3]:\n",
    "                sample.loc[i,'median_price'] = dado[2]\n",
    "                sample.loc[i,'estimate_profit'] = dado[0]\n",
    "                sample.loc[i,'estimate_profit%'] = '%.1f' %dado[1]\n",
    "                sample.loc[i,'x%_lower'] = '%.1f' %(100*(1 - (sample.loc[i,'price']/dado[2])))\n",
    "            \n",
    "            \n",
    "    sample.dropna(axis = 0, inplace = True)\n",
    "    sample.reset_index(inplace = True)\n",
    "    sample['hypothesis'] = H\n",
    "    sample.drop(['index'], axis = 1, inplace = True)\n",
    "    return sample\n",
    "\n",
    "def show_profit_estimation(data):\n",
    "    data['estimate_profit%'] = data['estimate_profit%'].astype(float)\n",
    "    print('Profit estimation')\n",
    "    print('Minimal estimated profit, %.1f' %data['estimate_profit%'].min(),'%')\n",
    "    print('Maximum estimated profit, %.1f' %data['estimate_profit%'].max(),'%')\n",
    "    print('Maximum estimated profit, %.1f' %data['estimate_profit%'].mean(),'%')"
   ]
  },
  {
   "cell_type": "code",
   "execution_count": 5,
   "id": "e35eb6cd",
   "metadata": {
    "scrolled": false
   },
   "outputs": [
    {
     "name": "stdout",
     "output_type": "stream",
     "text": [
      "H1 - Houses with waterfront are, in average, 20% more expensive.\n",
      " - Value found: 100.2 %\n",
      " - H1 confirmed\n",
      "Actilly the prices of houses with waterfront are, in the average, about 97% higher than prices of houses without waterfront.\n",
      "Lets check price distribution for houses with waterfront\n"
     ]
    },
    {
     "data": {
      "application/vnd.plotly.v1+json": {
       "config": {
        "plotlyServerURL": "https://plot.ly"
       },
       "data": [
        {
         "alignmentgroup": "True",
         "bingroup": "x",
         "hovertemplate": "price=%{x}<br>count=%{y}<extra></extra>",
         "legendgroup": "",
         "marker": {
          "color": "#636efa",
          "pattern": {
           "shape": ""
          }
         },
         "name": "",
         "offsetgroup": "",
         "orientation": "v",
         "showlegend": false,
         "type": "histogram",
         "x": [
          655000,
          369900,
          705000,
          825000,
          790000,
          290000,
          995000,
          530000,
          960000,
          480000,
          999000,
          700000,
          1000000,
          429592,
          549000,
          663000,
          340000,
          503000,
          949950,
          400000,
          425000,
          625000,
          650000,
          629000,
          985000,
          750000,
          950000,
          357000,
          770000,
          835000,
          685000,
          600000,
          500000,
          635000,
          649000,
          947500,
          600000,
          465000,
          735000,
          520000,
          658000,
          840500,
          700000,
          869000,
          641500,
          750000,
          340000,
          800000,
          750000,
          540000,
          820000,
          975000,
          528000,
          285000,
          570000,
          380000,
          385000,
          615000,
          988500
         ],
         "xaxis": "x",
         "yaxis": "y"
        }
       ],
       "layout": {
        "barmode": "relative",
        "font": {
         "size": 20
        },
        "legend": {
         "tracegroupgap": 0
        },
        "margin": {
         "t": 60
        },
        "template": {
         "data": {
          "bar": [
           {
            "error_x": {
             "color": "#2a3f5f"
            },
            "error_y": {
             "color": "#2a3f5f"
            },
            "marker": {
             "line": {
              "color": "#E5ECF6",
              "width": 0.5
             },
             "pattern": {
              "fillmode": "overlay",
              "size": 10,
              "solidity": 0.2
             }
            },
            "type": "bar"
           }
          ],
          "barpolar": [
           {
            "marker": {
             "line": {
              "color": "#E5ECF6",
              "width": 0.5
             },
             "pattern": {
              "fillmode": "overlay",
              "size": 10,
              "solidity": 0.2
             }
            },
            "type": "barpolar"
           }
          ],
          "carpet": [
           {
            "aaxis": {
             "endlinecolor": "#2a3f5f",
             "gridcolor": "white",
             "linecolor": "white",
             "minorgridcolor": "white",
             "startlinecolor": "#2a3f5f"
            },
            "baxis": {
             "endlinecolor": "#2a3f5f",
             "gridcolor": "white",
             "linecolor": "white",
             "minorgridcolor": "white",
             "startlinecolor": "#2a3f5f"
            },
            "type": "carpet"
           }
          ],
          "choropleth": [
           {
            "colorbar": {
             "outlinewidth": 0,
             "ticks": ""
            },
            "type": "choropleth"
           }
          ],
          "contour": [
           {
            "colorbar": {
             "outlinewidth": 0,
             "ticks": ""
            },
            "colorscale": [
             [
              0,
              "#0d0887"
             ],
             [
              0.1111111111111111,
              "#46039f"
             ],
             [
              0.2222222222222222,
              "#7201a8"
             ],
             [
              0.3333333333333333,
              "#9c179e"
             ],
             [
              0.4444444444444444,
              "#bd3786"
             ],
             [
              0.5555555555555556,
              "#d8576b"
             ],
             [
              0.6666666666666666,
              "#ed7953"
             ],
             [
              0.7777777777777778,
              "#fb9f3a"
             ],
             [
              0.8888888888888888,
              "#fdca26"
             ],
             [
              1,
              "#f0f921"
             ]
            ],
            "type": "contour"
           }
          ],
          "contourcarpet": [
           {
            "colorbar": {
             "outlinewidth": 0,
             "ticks": ""
            },
            "type": "contourcarpet"
           }
          ],
          "heatmap": [
           {
            "colorbar": {
             "outlinewidth": 0,
             "ticks": ""
            },
            "colorscale": [
             [
              0,
              "#0d0887"
             ],
             [
              0.1111111111111111,
              "#46039f"
             ],
             [
              0.2222222222222222,
              "#7201a8"
             ],
             [
              0.3333333333333333,
              "#9c179e"
             ],
             [
              0.4444444444444444,
              "#bd3786"
             ],
             [
              0.5555555555555556,
              "#d8576b"
             ],
             [
              0.6666666666666666,
              "#ed7953"
             ],
             [
              0.7777777777777778,
              "#fb9f3a"
             ],
             [
              0.8888888888888888,
              "#fdca26"
             ],
             [
              1,
              "#f0f921"
             ]
            ],
            "type": "heatmap"
           }
          ],
          "heatmapgl": [
           {
            "colorbar": {
             "outlinewidth": 0,
             "ticks": ""
            },
            "colorscale": [
             [
              0,
              "#0d0887"
             ],
             [
              0.1111111111111111,
              "#46039f"
             ],
             [
              0.2222222222222222,
              "#7201a8"
             ],
             [
              0.3333333333333333,
              "#9c179e"
             ],
             [
              0.4444444444444444,
              "#bd3786"
             ],
             [
              0.5555555555555556,
              "#d8576b"
             ],
             [
              0.6666666666666666,
              "#ed7953"
             ],
             [
              0.7777777777777778,
              "#fb9f3a"
             ],
             [
              0.8888888888888888,
              "#fdca26"
             ],
             [
              1,
              "#f0f921"
             ]
            ],
            "type": "heatmapgl"
           }
          ],
          "histogram": [
           {
            "marker": {
             "pattern": {
              "fillmode": "overlay",
              "size": 10,
              "solidity": 0.2
             }
            },
            "type": "histogram"
           }
          ],
          "histogram2d": [
           {
            "colorbar": {
             "outlinewidth": 0,
             "ticks": ""
            },
            "colorscale": [
             [
              0,
              "#0d0887"
             ],
             [
              0.1111111111111111,
              "#46039f"
             ],
             [
              0.2222222222222222,
              "#7201a8"
             ],
             [
              0.3333333333333333,
              "#9c179e"
             ],
             [
              0.4444444444444444,
              "#bd3786"
             ],
             [
              0.5555555555555556,
              "#d8576b"
             ],
             [
              0.6666666666666666,
              "#ed7953"
             ],
             [
              0.7777777777777778,
              "#fb9f3a"
             ],
             [
              0.8888888888888888,
              "#fdca26"
             ],
             [
              1,
              "#f0f921"
             ]
            ],
            "type": "histogram2d"
           }
          ],
          "histogram2dcontour": [
           {
            "colorbar": {
             "outlinewidth": 0,
             "ticks": ""
            },
            "colorscale": [
             [
              0,
              "#0d0887"
             ],
             [
              0.1111111111111111,
              "#46039f"
             ],
             [
              0.2222222222222222,
              "#7201a8"
             ],
             [
              0.3333333333333333,
              "#9c179e"
             ],
             [
              0.4444444444444444,
              "#bd3786"
             ],
             [
              0.5555555555555556,
              "#d8576b"
             ],
             [
              0.6666666666666666,
              "#ed7953"
             ],
             [
              0.7777777777777778,
              "#fb9f3a"
             ],
             [
              0.8888888888888888,
              "#fdca26"
             ],
             [
              1,
              "#f0f921"
             ]
            ],
            "type": "histogram2dcontour"
           }
          ],
          "mesh3d": [
           {
            "colorbar": {
             "outlinewidth": 0,
             "ticks": ""
            },
            "type": "mesh3d"
           }
          ],
          "parcoords": [
           {
            "line": {
             "colorbar": {
              "outlinewidth": 0,
              "ticks": ""
             }
            },
            "type": "parcoords"
           }
          ],
          "pie": [
           {
            "automargin": true,
            "type": "pie"
           }
          ],
          "scatter": [
           {
            "marker": {
             "colorbar": {
              "outlinewidth": 0,
              "ticks": ""
             }
            },
            "type": "scatter"
           }
          ],
          "scatter3d": [
           {
            "line": {
             "colorbar": {
              "outlinewidth": 0,
              "ticks": ""
             }
            },
            "marker": {
             "colorbar": {
              "outlinewidth": 0,
              "ticks": ""
             }
            },
            "type": "scatter3d"
           }
          ],
          "scattercarpet": [
           {
            "marker": {
             "colorbar": {
              "outlinewidth": 0,
              "ticks": ""
             }
            },
            "type": "scattercarpet"
           }
          ],
          "scattergeo": [
           {
            "marker": {
             "colorbar": {
              "outlinewidth": 0,
              "ticks": ""
             }
            },
            "type": "scattergeo"
           }
          ],
          "scattergl": [
           {
            "marker": {
             "colorbar": {
              "outlinewidth": 0,
              "ticks": ""
             }
            },
            "type": "scattergl"
           }
          ],
          "scattermapbox": [
           {
            "marker": {
             "colorbar": {
              "outlinewidth": 0,
              "ticks": ""
             }
            },
            "type": "scattermapbox"
           }
          ],
          "scatterpolar": [
           {
            "marker": {
             "colorbar": {
              "outlinewidth": 0,
              "ticks": ""
             }
            },
            "type": "scatterpolar"
           }
          ],
          "scatterpolargl": [
           {
            "marker": {
             "colorbar": {
              "outlinewidth": 0,
              "ticks": ""
             }
            },
            "type": "scatterpolargl"
           }
          ],
          "scatterternary": [
           {
            "marker": {
             "colorbar": {
              "outlinewidth": 0,
              "ticks": ""
             }
            },
            "type": "scatterternary"
           }
          ],
          "surface": [
           {
            "colorbar": {
             "outlinewidth": 0,
             "ticks": ""
            },
            "colorscale": [
             [
              0,
              "#0d0887"
             ],
             [
              0.1111111111111111,
              "#46039f"
             ],
             [
              0.2222222222222222,
              "#7201a8"
             ],
             [
              0.3333333333333333,
              "#9c179e"
             ],
             [
              0.4444444444444444,
              "#bd3786"
             ],
             [
              0.5555555555555556,
              "#d8576b"
             ],
             [
              0.6666666666666666,
              "#ed7953"
             ],
             [
              0.7777777777777778,
              "#fb9f3a"
             ],
             [
              0.8888888888888888,
              "#fdca26"
             ],
             [
              1,
              "#f0f921"
             ]
            ],
            "type": "surface"
           }
          ],
          "table": [
           {
            "cells": {
             "fill": {
              "color": "#EBF0F8"
             },
             "line": {
              "color": "white"
             }
            },
            "header": {
             "fill": {
              "color": "#C8D4E3"
             },
             "line": {
              "color": "white"
             }
            },
            "type": "table"
           }
          ]
         },
         "layout": {
          "annotationdefaults": {
           "arrowcolor": "#2a3f5f",
           "arrowhead": 0,
           "arrowwidth": 1
          },
          "autotypenumbers": "strict",
          "coloraxis": {
           "colorbar": {
            "outlinewidth": 0,
            "ticks": ""
           }
          },
          "colorscale": {
           "diverging": [
            [
             0,
             "#8e0152"
            ],
            [
             0.1,
             "#c51b7d"
            ],
            [
             0.2,
             "#de77ae"
            ],
            [
             0.3,
             "#f1b6da"
            ],
            [
             0.4,
             "#fde0ef"
            ],
            [
             0.5,
             "#f7f7f7"
            ],
            [
             0.6,
             "#e6f5d0"
            ],
            [
             0.7,
             "#b8e186"
            ],
            [
             0.8,
             "#7fbc41"
            ],
            [
             0.9,
             "#4d9221"
            ],
            [
             1,
             "#276419"
            ]
           ],
           "sequential": [
            [
             0,
             "#0d0887"
            ],
            [
             0.1111111111111111,
             "#46039f"
            ],
            [
             0.2222222222222222,
             "#7201a8"
            ],
            [
             0.3333333333333333,
             "#9c179e"
            ],
            [
             0.4444444444444444,
             "#bd3786"
            ],
            [
             0.5555555555555556,
             "#d8576b"
            ],
            [
             0.6666666666666666,
             "#ed7953"
            ],
            [
             0.7777777777777778,
             "#fb9f3a"
            ],
            [
             0.8888888888888888,
             "#fdca26"
            ],
            [
             1,
             "#f0f921"
            ]
           ],
           "sequentialminus": [
            [
             0,
             "#0d0887"
            ],
            [
             0.1111111111111111,
             "#46039f"
            ],
            [
             0.2222222222222222,
             "#7201a8"
            ],
            [
             0.3333333333333333,
             "#9c179e"
            ],
            [
             0.4444444444444444,
             "#bd3786"
            ],
            [
             0.5555555555555556,
             "#d8576b"
            ],
            [
             0.6666666666666666,
             "#ed7953"
            ],
            [
             0.7777777777777778,
             "#fb9f3a"
            ],
            [
             0.8888888888888888,
             "#fdca26"
            ],
            [
             1,
             "#f0f921"
            ]
           ]
          },
          "colorway": [
           "#636efa",
           "#EF553B",
           "#00cc96",
           "#ab63fa",
           "#FFA15A",
           "#19d3f3",
           "#FF6692",
           "#B6E880",
           "#FF97FF",
           "#FECB52"
          ],
          "font": {
           "color": "#2a3f5f"
          },
          "geo": {
           "bgcolor": "white",
           "lakecolor": "white",
           "landcolor": "#E5ECF6",
           "showlakes": true,
           "showland": true,
           "subunitcolor": "white"
          },
          "hoverlabel": {
           "align": "left"
          },
          "hovermode": "closest",
          "mapbox": {
           "style": "light"
          },
          "paper_bgcolor": "white",
          "plot_bgcolor": "#E5ECF6",
          "polar": {
           "angularaxis": {
            "gridcolor": "white",
            "linecolor": "white",
            "ticks": ""
           },
           "bgcolor": "#E5ECF6",
           "radialaxis": {
            "gridcolor": "white",
            "linecolor": "white",
            "ticks": ""
           }
          },
          "scene": {
           "xaxis": {
            "backgroundcolor": "#E5ECF6",
            "gridcolor": "white",
            "gridwidth": 2,
            "linecolor": "white",
            "showbackground": true,
            "ticks": "",
            "zerolinecolor": "white"
           },
           "yaxis": {
            "backgroundcolor": "#E5ECF6",
            "gridcolor": "white",
            "gridwidth": 2,
            "linecolor": "white",
            "showbackground": true,
            "ticks": "",
            "zerolinecolor": "white"
           },
           "zaxis": {
            "backgroundcolor": "#E5ECF6",
            "gridcolor": "white",
            "gridwidth": 2,
            "linecolor": "white",
            "showbackground": true,
            "ticks": "",
            "zerolinecolor": "white"
           }
          },
          "shapedefaults": {
           "line": {
            "color": "#2a3f5f"
           }
          },
          "ternary": {
           "aaxis": {
            "gridcolor": "white",
            "linecolor": "white",
            "ticks": ""
           },
           "baxis": {
            "gridcolor": "white",
            "linecolor": "white",
            "ticks": ""
           },
           "bgcolor": "#E5ECF6",
           "caxis": {
            "gridcolor": "white",
            "linecolor": "white",
            "ticks": ""
           }
          },
          "title": {
           "x": 0.05
          },
          "xaxis": {
           "automargin": true,
           "gridcolor": "white",
           "linecolor": "white",
           "ticks": "",
           "title": {
            "standoff": 15
           },
           "zerolinecolor": "white",
           "zerolinewidth": 2
          },
          "yaxis": {
           "automargin": true,
           "gridcolor": "white",
           "linecolor": "white",
           "ticks": "",
           "title": {
            "standoff": 15
           },
           "zerolinecolor": "white",
           "zerolinewidth": 2
          }
         }
        },
        "title": {
         "text": "Price distribution for houses with waterfront"
        },
        "xaxis": {
         "anchor": "y",
         "domain": [
          0,
          1
         ],
         "title": {
          "text": "Price (USD)"
         }
        },
        "yaxis": {
         "anchor": "x",
         "domain": [
          0,
          1
         ],
         "title": {
          "text": "Number of houses"
         }
        }
       }
      },
      "text/html": [
       "<div>                            <div id=\"7798007d-a31a-490a-8db5-c12ad92661f1\" class=\"plotly-graph-div\" style=\"height:525px; width:100%;\"></div>            <script type=\"text/javascript\">                require([\"plotly\"], function(Plotly) {                    window.PLOTLYENV=window.PLOTLYENV || {};                                    if (document.getElementById(\"7798007d-a31a-490a-8db5-c12ad92661f1\")) {                    Plotly.newPlot(                        \"7798007d-a31a-490a-8db5-c12ad92661f1\",                        [{\"alignmentgroup\":\"True\",\"bingroup\":\"x\",\"hovertemplate\":\"price=%{x}<br>count=%{y}<extra></extra>\",\"legendgroup\":\"\",\"marker\":{\"color\":\"#636efa\",\"pattern\":{\"shape\":\"\"}},\"name\":\"\",\"offsetgroup\":\"\",\"orientation\":\"v\",\"showlegend\":false,\"type\":\"histogram\",\"x\":[655000.0,369900.0,705000.0,825000.0,790000.0,290000.0,995000.0,530000.0,960000.0,480000.0,999000.0,700000.0,1000000.0,429592.0,549000.0,663000.0,340000.0,503000.0,949950.0,400000.0,425000.0,625000.0,650000.0,629000.0,985000.0,750000.0,950000.0,357000.0,770000.0,835000.0,685000.0,600000.0,500000.0,635000.0,649000.0,947500.0,600000.0,465000.0,735000.0,520000.0,658000.0,840500.0,700000.0,869000.0,641500.0,750000.0,340000.0,800000.0,750000.0,540000.0,820000.0,975000.0,528000.0,285000.0,570000.0,380000.0,385000.0,615000.0,988500.0],\"xaxis\":\"x\",\"yaxis\":\"y\"}],                        {\"barmode\":\"relative\",\"font\":{\"size\":20},\"legend\":{\"tracegroupgap\":0},\"margin\":{\"t\":60},\"template\":{\"data\":{\"bar\":[{\"error_x\":{\"color\":\"#2a3f5f\"},\"error_y\":{\"color\":\"#2a3f5f\"},\"marker\":{\"line\":{\"color\":\"#E5ECF6\",\"width\":0.5},\"pattern\":{\"fillmode\":\"overlay\",\"size\":10,\"solidity\":0.2}},\"type\":\"bar\"}],\"barpolar\":[{\"marker\":{\"line\":{\"color\":\"#E5ECF6\",\"width\":0.5},\"pattern\":{\"fillmode\":\"overlay\",\"size\":10,\"solidity\":0.2}},\"type\":\"barpolar\"}],\"carpet\":[{\"aaxis\":{\"endlinecolor\":\"#2a3f5f\",\"gridcolor\":\"white\",\"linecolor\":\"white\",\"minorgridcolor\":\"white\",\"startlinecolor\":\"#2a3f5f\"},\"baxis\":{\"endlinecolor\":\"#2a3f5f\",\"gridcolor\":\"white\",\"linecolor\":\"white\",\"minorgridcolor\":\"white\",\"startlinecolor\":\"#2a3f5f\"},\"type\":\"carpet\"}],\"choropleth\":[{\"colorbar\":{\"outlinewidth\":0,\"ticks\":\"\"},\"type\":\"choropleth\"}],\"contour\":[{\"colorbar\":{\"outlinewidth\":0,\"ticks\":\"\"},\"colorscale\":[[0.0,\"#0d0887\"],[0.1111111111111111,\"#46039f\"],[0.2222222222222222,\"#7201a8\"],[0.3333333333333333,\"#9c179e\"],[0.4444444444444444,\"#bd3786\"],[0.5555555555555556,\"#d8576b\"],[0.6666666666666666,\"#ed7953\"],[0.7777777777777778,\"#fb9f3a\"],[0.8888888888888888,\"#fdca26\"],[1.0,\"#f0f921\"]],\"type\":\"contour\"}],\"contourcarpet\":[{\"colorbar\":{\"outlinewidth\":0,\"ticks\":\"\"},\"type\":\"contourcarpet\"}],\"heatmap\":[{\"colorbar\":{\"outlinewidth\":0,\"ticks\":\"\"},\"colorscale\":[[0.0,\"#0d0887\"],[0.1111111111111111,\"#46039f\"],[0.2222222222222222,\"#7201a8\"],[0.3333333333333333,\"#9c179e\"],[0.4444444444444444,\"#bd3786\"],[0.5555555555555556,\"#d8576b\"],[0.6666666666666666,\"#ed7953\"],[0.7777777777777778,\"#fb9f3a\"],[0.8888888888888888,\"#fdca26\"],[1.0,\"#f0f921\"]],\"type\":\"heatmap\"}],\"heatmapgl\":[{\"colorbar\":{\"outlinewidth\":0,\"ticks\":\"\"},\"colorscale\":[[0.0,\"#0d0887\"],[0.1111111111111111,\"#46039f\"],[0.2222222222222222,\"#7201a8\"],[0.3333333333333333,\"#9c179e\"],[0.4444444444444444,\"#bd3786\"],[0.5555555555555556,\"#d8576b\"],[0.6666666666666666,\"#ed7953\"],[0.7777777777777778,\"#fb9f3a\"],[0.8888888888888888,\"#fdca26\"],[1.0,\"#f0f921\"]],\"type\":\"heatmapgl\"}],\"histogram\":[{\"marker\":{\"pattern\":{\"fillmode\":\"overlay\",\"size\":10,\"solidity\":0.2}},\"type\":\"histogram\"}],\"histogram2d\":[{\"colorbar\":{\"outlinewidth\":0,\"ticks\":\"\"},\"colorscale\":[[0.0,\"#0d0887\"],[0.1111111111111111,\"#46039f\"],[0.2222222222222222,\"#7201a8\"],[0.3333333333333333,\"#9c179e\"],[0.4444444444444444,\"#bd3786\"],[0.5555555555555556,\"#d8576b\"],[0.6666666666666666,\"#ed7953\"],[0.7777777777777778,\"#fb9f3a\"],[0.8888888888888888,\"#fdca26\"],[1.0,\"#f0f921\"]],\"type\":\"histogram2d\"}],\"histogram2dcontour\":[{\"colorbar\":{\"outlinewidth\":0,\"ticks\":\"\"},\"colorscale\":[[0.0,\"#0d0887\"],[0.1111111111111111,\"#46039f\"],[0.2222222222222222,\"#7201a8\"],[0.3333333333333333,\"#9c179e\"],[0.4444444444444444,\"#bd3786\"],[0.5555555555555556,\"#d8576b\"],[0.6666666666666666,\"#ed7953\"],[0.7777777777777778,\"#fb9f3a\"],[0.8888888888888888,\"#fdca26\"],[1.0,\"#f0f921\"]],\"type\":\"histogram2dcontour\"}],\"mesh3d\":[{\"colorbar\":{\"outlinewidth\":0,\"ticks\":\"\"},\"type\":\"mesh3d\"}],\"parcoords\":[{\"line\":{\"colorbar\":{\"outlinewidth\":0,\"ticks\":\"\"}},\"type\":\"parcoords\"}],\"pie\":[{\"automargin\":true,\"type\":\"pie\"}],\"scatter\":[{\"marker\":{\"colorbar\":{\"outlinewidth\":0,\"ticks\":\"\"}},\"type\":\"scatter\"}],\"scatter3d\":[{\"line\":{\"colorbar\":{\"outlinewidth\":0,\"ticks\":\"\"}},\"marker\":{\"colorbar\":{\"outlinewidth\":0,\"ticks\":\"\"}},\"type\":\"scatter3d\"}],\"scattercarpet\":[{\"marker\":{\"colorbar\":{\"outlinewidth\":0,\"ticks\":\"\"}},\"type\":\"scattercarpet\"}],\"scattergeo\":[{\"marker\":{\"colorbar\":{\"outlinewidth\":0,\"ticks\":\"\"}},\"type\":\"scattergeo\"}],\"scattergl\":[{\"marker\":{\"colorbar\":{\"outlinewidth\":0,\"ticks\":\"\"}},\"type\":\"scattergl\"}],\"scattermapbox\":[{\"marker\":{\"colorbar\":{\"outlinewidth\":0,\"ticks\":\"\"}},\"type\":\"scattermapbox\"}],\"scatterpolar\":[{\"marker\":{\"colorbar\":{\"outlinewidth\":0,\"ticks\":\"\"}},\"type\":\"scatterpolar\"}],\"scatterpolargl\":[{\"marker\":{\"colorbar\":{\"outlinewidth\":0,\"ticks\":\"\"}},\"type\":\"scatterpolargl\"}],\"scatterternary\":[{\"marker\":{\"colorbar\":{\"outlinewidth\":0,\"ticks\":\"\"}},\"type\":\"scatterternary\"}],\"surface\":[{\"colorbar\":{\"outlinewidth\":0,\"ticks\":\"\"},\"colorscale\":[[0.0,\"#0d0887\"],[0.1111111111111111,\"#46039f\"],[0.2222222222222222,\"#7201a8\"],[0.3333333333333333,\"#9c179e\"],[0.4444444444444444,\"#bd3786\"],[0.5555555555555556,\"#d8576b\"],[0.6666666666666666,\"#ed7953\"],[0.7777777777777778,\"#fb9f3a\"],[0.8888888888888888,\"#fdca26\"],[1.0,\"#f0f921\"]],\"type\":\"surface\"}],\"table\":[{\"cells\":{\"fill\":{\"color\":\"#EBF0F8\"},\"line\":{\"color\":\"white\"}},\"header\":{\"fill\":{\"color\":\"#C8D4E3\"},\"line\":{\"color\":\"white\"}},\"type\":\"table\"}]},\"layout\":{\"annotationdefaults\":{\"arrowcolor\":\"#2a3f5f\",\"arrowhead\":0,\"arrowwidth\":1},\"autotypenumbers\":\"strict\",\"coloraxis\":{\"colorbar\":{\"outlinewidth\":0,\"ticks\":\"\"}},\"colorscale\":{\"diverging\":[[0,\"#8e0152\"],[0.1,\"#c51b7d\"],[0.2,\"#de77ae\"],[0.3,\"#f1b6da\"],[0.4,\"#fde0ef\"],[0.5,\"#f7f7f7\"],[0.6,\"#e6f5d0\"],[0.7,\"#b8e186\"],[0.8,\"#7fbc41\"],[0.9,\"#4d9221\"],[1,\"#276419\"]],\"sequential\":[[0.0,\"#0d0887\"],[0.1111111111111111,\"#46039f\"],[0.2222222222222222,\"#7201a8\"],[0.3333333333333333,\"#9c179e\"],[0.4444444444444444,\"#bd3786\"],[0.5555555555555556,\"#d8576b\"],[0.6666666666666666,\"#ed7953\"],[0.7777777777777778,\"#fb9f3a\"],[0.8888888888888888,\"#fdca26\"],[1.0,\"#f0f921\"]],\"sequentialminus\":[[0.0,\"#0d0887\"],[0.1111111111111111,\"#46039f\"],[0.2222222222222222,\"#7201a8\"],[0.3333333333333333,\"#9c179e\"],[0.4444444444444444,\"#bd3786\"],[0.5555555555555556,\"#d8576b\"],[0.6666666666666666,\"#ed7953\"],[0.7777777777777778,\"#fb9f3a\"],[0.8888888888888888,\"#fdca26\"],[1.0,\"#f0f921\"]]},\"colorway\":[\"#636efa\",\"#EF553B\",\"#00cc96\",\"#ab63fa\",\"#FFA15A\",\"#19d3f3\",\"#FF6692\",\"#B6E880\",\"#FF97FF\",\"#FECB52\"],\"font\":{\"color\":\"#2a3f5f\"},\"geo\":{\"bgcolor\":\"white\",\"lakecolor\":\"white\",\"landcolor\":\"#E5ECF6\",\"showlakes\":true,\"showland\":true,\"subunitcolor\":\"white\"},\"hoverlabel\":{\"align\":\"left\"},\"hovermode\":\"closest\",\"mapbox\":{\"style\":\"light\"},\"paper_bgcolor\":\"white\",\"plot_bgcolor\":\"#E5ECF6\",\"polar\":{\"angularaxis\":{\"gridcolor\":\"white\",\"linecolor\":\"white\",\"ticks\":\"\"},\"bgcolor\":\"#E5ECF6\",\"radialaxis\":{\"gridcolor\":\"white\",\"linecolor\":\"white\",\"ticks\":\"\"}},\"scene\":{\"xaxis\":{\"backgroundcolor\":\"#E5ECF6\",\"gridcolor\":\"white\",\"gridwidth\":2,\"linecolor\":\"white\",\"showbackground\":true,\"ticks\":\"\",\"zerolinecolor\":\"white\"},\"yaxis\":{\"backgroundcolor\":\"#E5ECF6\",\"gridcolor\":\"white\",\"gridwidth\":2,\"linecolor\":\"white\",\"showbackground\":true,\"ticks\":\"\",\"zerolinecolor\":\"white\"},\"zaxis\":{\"backgroundcolor\":\"#E5ECF6\",\"gridcolor\":\"white\",\"gridwidth\":2,\"linecolor\":\"white\",\"showbackground\":true,\"ticks\":\"\",\"zerolinecolor\":\"white\"}},\"shapedefaults\":{\"line\":{\"color\":\"#2a3f5f\"}},\"ternary\":{\"aaxis\":{\"gridcolor\":\"white\",\"linecolor\":\"white\",\"ticks\":\"\"},\"baxis\":{\"gridcolor\":\"white\",\"linecolor\":\"white\",\"ticks\":\"\"},\"bgcolor\":\"#E5ECF6\",\"caxis\":{\"gridcolor\":\"white\",\"linecolor\":\"white\",\"ticks\":\"\"}},\"title\":{\"x\":0.05},\"xaxis\":{\"automargin\":true,\"gridcolor\":\"white\",\"linecolor\":\"white\",\"ticks\":\"\",\"title\":{\"standoff\":15},\"zerolinecolor\":\"white\",\"zerolinewidth\":2},\"yaxis\":{\"automargin\":true,\"gridcolor\":\"white\",\"linecolor\":\"white\",\"ticks\":\"\",\"title\":{\"standoff\":15},\"zerolinecolor\":\"white\",\"zerolinewidth\":2}}},\"title\":{\"text\":\"Price distribution for houses with waterfront\"},\"xaxis\":{\"anchor\":\"y\",\"domain\":[0.0,1.0],\"title\":{\"text\":\"Price (USD)\"}},\"yaxis\":{\"anchor\":\"x\",\"domain\":[0.0,1.0],\"title\":{\"text\":\"Number of houses\"}}},                        {\"responsive\": true}                    ).then(function(){\n",
       "                            \n",
       "var gd = document.getElementById('7798007d-a31a-490a-8db5-c12ad92661f1');\n",
       "var x = new MutationObserver(function (mutations, observer) {{\n",
       "        var display = window.getComputedStyle(gd).display;\n",
       "        if (!display || display === 'none') {{\n",
       "            console.log([gd, 'removed!']);\n",
       "            Plotly.purge(gd);\n",
       "            observer.disconnect();\n",
       "        }}\n",
       "}});\n",
       "\n",
       "// Listen for the removal of the full notebook cells\n",
       "var notebookContainer = gd.closest('#notebook-container');\n",
       "if (notebookContainer) {{\n",
       "    x.observe(notebookContainer, {childList: true});\n",
       "}}\n",
       "\n",
       "// Listen for the clearing of the current output cell\n",
       "var outputEl = gd.closest('.output');\n",
       "if (outputEl) {{\n",
       "    x.observe(outputEl, {childList: true});\n",
       "}}\n",
       "\n",
       "                        })                };                });            </script>        </div>"
      ]
     },
     "metadata": {},
     "output_type": "display_data"
    },
    {
     "name": "stdout",
     "output_type": "stream",
     "text": [
      "The recommendation is to buy houses with prices lower 650000.0, the the median price for houses with waterfront.\n"
     ]
    },
    {
     "name": "stderr",
     "output_type": "stream",
     "text": [
      "/home/eliel/anaconda3/lib/python3.8/site-packages/pandas/core/frame.py:4308: SettingWithCopyWarning:\n",
      "\n",
      "\n",
      "A value is trying to be set on a copy of a slice from a DataFrame\n",
      "\n",
      "See the caveats in the documentation: https://pandas.pydata.org/pandas-docs/stable/user_guide/indexing.html#returning-a-view-versus-a-copy\n",
      "\n"
     ]
    },
    {
     "name": "stdout",
     "output_type": "stream",
     "text": [
      "Este é o tamnho da amostra =  24\n",
      "Este é o tamnho da amostra =  24\n",
      "24\n",
      "Profit estimation\n",
      "Minimal estimated profit, 2.5 %\n",
      "Maximum estimated profit, 112.1 %\n",
      "Maximum estimated profit, 25.3 %\n"
     ]
    },
    {
     "data": {
      "text/html": [
       "<div>\n",
       "<style scoped>\n",
       "    .dataframe tbody tr th:only-of-type {\n",
       "        vertical-align: middle;\n",
       "    }\n",
       "\n",
       "    .dataframe tbody tr th {\n",
       "        vertical-align: top;\n",
       "    }\n",
       "\n",
       "    .dataframe thead th {\n",
       "        text-align: right;\n",
       "    }\n",
       "</style>\n",
       "<table border=\"1\" class=\"dataframe\">\n",
       "  <thead>\n",
       "    <tr style=\"text-align: right;\">\n",
       "      <th></th>\n",
       "      <th>level_0</th>\n",
       "      <th>id</th>\n",
       "      <th>date</th>\n",
       "      <th>price</th>\n",
       "      <th>bedrooms</th>\n",
       "      <th>bathrooms</th>\n",
       "      <th>sqft_living</th>\n",
       "      <th>sqft_lot</th>\n",
       "      <th>floors</th>\n",
       "      <th>waterfront</th>\n",
       "      <th>...</th>\n",
       "      <th>zipcode</th>\n",
       "      <th>lat</th>\n",
       "      <th>long</th>\n",
       "      <th>sqft_living15</th>\n",
       "      <th>sqft_lot15</th>\n",
       "      <th>median_price</th>\n",
       "      <th>estimate_profit</th>\n",
       "      <th>estimate_profit%</th>\n",
       "      <th>x%_lower</th>\n",
       "      <th>hypothesis</th>\n",
       "    </tr>\n",
       "  </thead>\n",
       "  <tbody>\n",
       "    <tr>\n",
       "      <th>0</th>\n",
       "      <td>0</td>\n",
       "      <td>121039042</td>\n",
       "      <td>20150313T000000</td>\n",
       "      <td>425000.0</td>\n",
       "      <td>3</td>\n",
       "      <td>2.75</td>\n",
       "      <td>3610</td>\n",
       "      <td>107386</td>\n",
       "      <td>1.5</td>\n",
       "      <td>1</td>\n",
       "      <td>...</td>\n",
       "      <td>98023</td>\n",
       "      <td>47.3351</td>\n",
       "      <td>-122.362</td>\n",
       "      <td>2630</td>\n",
       "      <td>42126</td>\n",
       "      <td>464000.0</td>\n",
       "      <td>39000.0</td>\n",
       "      <td>9.2</td>\n",
       "      <td>8.4</td>\n",
       "      <td>H1</td>\n",
       "    </tr>\n",
       "    <tr>\n",
       "      <th>1</th>\n",
       "      <td>1</td>\n",
       "      <td>2923039243</td>\n",
       "      <td>20141113T000000</td>\n",
       "      <td>340000.0</td>\n",
       "      <td>4</td>\n",
       "      <td>1.00</td>\n",
       "      <td>1200</td>\n",
       "      <td>11834</td>\n",
       "      <td>1.0</td>\n",
       "      <td>1</td>\n",
       "      <td>...</td>\n",
       "      <td>98070</td>\n",
       "      <td>47.4557</td>\n",
       "      <td>-122.443</td>\n",
       "      <td>1670</td>\n",
       "      <td>47462</td>\n",
       "      <td>370000.0</td>\n",
       "      <td>30000.0</td>\n",
       "      <td>8.8</td>\n",
       "      <td>8.1</td>\n",
       "      <td>H1</td>\n",
       "    </tr>\n",
       "    <tr>\n",
       "      <th>2</th>\n",
       "      <td>2</td>\n",
       "      <td>2781600195</td>\n",
       "      <td>20141117T000000</td>\n",
       "      <td>285000.0</td>\n",
       "      <td>1</td>\n",
       "      <td>1.00</td>\n",
       "      <td>1060</td>\n",
       "      <td>54846</td>\n",
       "      <td>1.0</td>\n",
       "      <td>1</td>\n",
       "      <td>...</td>\n",
       "      <td>98070</td>\n",
       "      <td>47.4716</td>\n",
       "      <td>-122.445</td>\n",
       "      <td>2258</td>\n",
       "      <td>31762</td>\n",
       "      <td>370000.0</td>\n",
       "      <td>85000.0</td>\n",
       "      <td>29.8</td>\n",
       "      <td>23.0</td>\n",
       "      <td>H1</td>\n",
       "    </tr>\n",
       "    <tr>\n",
       "      <th>3</th>\n",
       "      <td>3</td>\n",
       "      <td>7129303070</td>\n",
       "      <td>20140820T000000</td>\n",
       "      <td>735000.0</td>\n",
       "      <td>4</td>\n",
       "      <td>2.75</td>\n",
       "      <td>3040</td>\n",
       "      <td>2415</td>\n",
       "      <td>2.0</td>\n",
       "      <td>1</td>\n",
       "      <td>...</td>\n",
       "      <td>98118</td>\n",
       "      <td>47.5188</td>\n",
       "      <td>-122.256</td>\n",
       "      <td>2620</td>\n",
       "      <td>2433</td>\n",
       "      <td>842475.0</td>\n",
       "      <td>107475.0</td>\n",
       "      <td>14.6</td>\n",
       "      <td>12.8</td>\n",
       "      <td>H1</td>\n",
       "    </tr>\n",
       "    <tr>\n",
       "      <th>4</th>\n",
       "      <td>4</td>\n",
       "      <td>6329000050</td>\n",
       "      <td>20150310T000000</td>\n",
       "      <td>641500.0</td>\n",
       "      <td>1</td>\n",
       "      <td>1.00</td>\n",
       "      <td>1000</td>\n",
       "      <td>9084</td>\n",
       "      <td>1.0</td>\n",
       "      <td>1</td>\n",
       "      <td>...</td>\n",
       "      <td>98146</td>\n",
       "      <td>47.5007</td>\n",
       "      <td>-122.382</td>\n",
       "      <td>1090</td>\n",
       "      <td>6536</td>\n",
       "      <td>695750.0</td>\n",
       "      <td>54250.0</td>\n",
       "      <td>8.5</td>\n",
       "      <td>7.8</td>\n",
       "      <td>H1</td>\n",
       "    </tr>\n",
       "  </tbody>\n",
       "</table>\n",
       "<p>5 rows × 27 columns</p>\n",
       "</div>"
      ],
      "text/plain": [
       "   level_0          id             date     price  bedrooms  bathrooms  \\\n",
       "0        0   121039042  20150313T000000  425000.0         3       2.75   \n",
       "1        1  2923039243  20141113T000000  340000.0         4       1.00   \n",
       "2        2  2781600195  20141117T000000  285000.0         1       1.00   \n",
       "3        3  7129303070  20140820T000000  735000.0         4       2.75   \n",
       "4        4  6329000050  20150310T000000  641500.0         1       1.00   \n",
       "\n",
       "   sqft_living  sqft_lot  floors  waterfront  ...  zipcode      lat     long  \\\n",
       "0         3610    107386     1.5           1  ...    98023  47.3351 -122.362   \n",
       "1         1200     11834     1.0           1  ...    98070  47.4557 -122.443   \n",
       "2         1060     54846     1.0           1  ...    98070  47.4716 -122.445   \n",
       "3         3040      2415     2.0           1  ...    98118  47.5188 -122.256   \n",
       "4         1000      9084     1.0           1  ...    98146  47.5007 -122.382   \n",
       "\n",
       "   sqft_living15  sqft_lot15  median_price  estimate_profit  estimate_profit%  \\\n",
       "0           2630       42126      464000.0          39000.0               9.2   \n",
       "1           1670       47462      370000.0          30000.0               8.8   \n",
       "2           2258       31762      370000.0          85000.0              29.8   \n",
       "3           2620        2433      842475.0         107475.0              14.6   \n",
       "4           1090        6536      695750.0          54250.0               8.5   \n",
       "\n",
       "   x%_lower  hypothesis  \n",
       "0       8.4          H1  \n",
       "1       8.1          H1  \n",
       "2      23.0          H1  \n",
       "3      12.8          H1  \n",
       "4       7.8          H1  \n",
       "\n",
       "[5 rows x 27 columns]"
      ]
     },
     "execution_count": 5,
     "metadata": {},
     "output_type": "execute_result"
    }
   ],
   "source": [
    "H1 = 'Houses with waterfront are, in average, 20% more expensive.'\n",
    "print('H1 - ' + H1)\n",
    "\n",
    "# Select data where the houses have waterfront\n",
    "# Take the averaged price per zipcode and condition\n",
    "data_wf = data.loc[data['waterfront'] == 1, ['condition', 'zipcode', 'price']].groupby(['condition', 'zipcode']).median().reset_index()\n",
    "data_wf.columns = ['condition', 'zipcode', 'median_price']\n",
    "\n",
    "# Select data where the houses haven't waterfront\n",
    "# Take the averaged price per zipcode and condition\n",
    "data_nwf = data.loc[data['waterfront'] == 0, ['condition', 'zipcode', 'price']].groupby(['condition', 'zipcode']).median().reset_index()\n",
    "data_nwf.columns = ['condition', 'zipcode', 'median_price']\n",
    "\n",
    "# Compare the price for houses with the same condition and region\n",
    "diff_price = np.array([])\n",
    "for i in range(len(data_wf)):\n",
    "    for k in range(len(data_nwf)):\n",
    "        if (data_wf.loc[i,'zipcode'] == data_nwf.loc[k,'zipcode']) & (data_wf.loc[i,'condition'] == data_nwf.loc[k,'condition']):\n",
    "            diff_price = np.append(diff_price, 100*(data_wf.loc[i,'median_price']/data_nwf.loc[k, 'median_price'] - 1))\n",
    "\n",
    "print(\" - Value found: %.1f\" %(sum(diff_price)/len(diff_price)),'%')\n",
    "print(\" - H1 confirmed\")\n",
    "print('Actilly the prices of houses with waterfront are, in the average, about 97% higher than prices of houses without waterfront.')\n",
    "print('Lets check price distribution for houses with waterfront')\n",
    "\n",
    "data_aux = data.loc[data['waterfront'] == 1]\n",
    "fig = px.histogram(data_aux, x = 'price')\n",
    "fig.update_layout(\n",
    "    font_size = 20,\n",
    "    title = 'Price distribution for houses with waterfront',\n",
    "    xaxis_title = 'Price (USD)',\n",
    "    yaxis_title = 'Number of houses'\n",
    ")\n",
    "fig.show()\n",
    "\n",
    "print('The recommendation is to buy houses with prices lower %.1f, the the median price for houses with waterfront.' %data.loc[data['waterfront'] == 1 ,'price'].median())\n",
    "\n",
    "data_aux.reset_index(inplace = True)\n",
    "data_aux.drop(columns = 'index', inplace = True)   \n",
    "house_data = []\n",
    "for i in range(len(data_wf)):\n",
    "    for k in range(len(data_aux)):\n",
    "        if (data_wf.loc[i, 'median_price'] > data_aux.loc[k, 'price']) & (data_wf.loc[i,'zipcode'] == data_aux.loc[k,'zipcode']) & (data_wf.loc[i,'condition'] == data_aux.loc[k,'condition']):\n",
    "            house_data.append([(data_wf.loc[i,'median_price'] - data_aux.loc[k, 'price']),100*(data_wf.loc[i,'median_price']/data_aux.loc[k, 'price'] - 1), data_wf.loc[i, 'median_price'],data_aux.loc[k, 'id']])\n",
    "\n",
    "sample_h1 = take_houses(data, house_data,'H1')\n",
    "print(len(sample_h1))\n",
    "show_profit_estimation(sample_h1)\n",
    "sample_h1.head()"
   ]
  },
  {
   "cell_type": "code",
   "execution_count": 6,
   "id": "5b1eeffe",
   "metadata": {
    "scrolled": false
   },
   "outputs": [
    {
     "name": "stdout",
     "output_type": "stream",
     "text": [
      "H5 - House that have more than one bathroom are, in average, 15% more expensive.\n",
      " - Value found: 42.2 %\n",
      " - H5 confirmed\n",
      "Houses with more than one bathrooms are, in average, about 44% more expensive\n",
      "Lets see how many houses there are in the portifolio for each amount of bathrooms.\n"
     ]
    },
    {
     "data": {
      "application/vnd.plotly.v1+json": {
       "config": {
        "plotlyServerURL": "https://plot.ly"
       },
       "data": [
        {
         "alignmentgroup": "True",
         "hovertemplate": "bathrooms=%{x}<br>count=%{y}<extra></extra>",
         "legendgroup": "",
         "marker": {
          "color": "#636efa",
          "pattern": {
           "shape": ""
          }
         },
         "name": "",
         "offsetgroup": "",
         "orientation": "v",
         "showlegend": false,
         "textposition": "auto",
         "type": "bar",
         "x": [
          2.5,
          1,
          1.75,
          2.25,
          2,
          1.5,
          2.75,
          3,
          3.5,
          3.25,
          0.75,
          3.75,
          4,
          4.5,
          4.25,
          0,
          5,
          1.25,
          4.75,
          0.5,
          5.25,
          6,
          5.5,
          7.5,
          6.75,
          5.75
         ],
         "xaxis": "x",
         "y": [
          5141,
          3847,
          3008,
          1939,
          1903,
          1429,
          1074,
          643,
          512,
          393,
          72,
          71,
          61,
          47,
          25,
          8,
          7,
          7,
          4,
          4,
          2,
          1,
          1,
          1,
          1,
          1
         ],
         "yaxis": "y"
        }
       ],
       "layout": {
        "barmode": "relative",
        "font": {
         "size": 20
        },
        "legend": {
         "tracegroupgap": 0
        },
        "margin": {
         "t": 60
        },
        "template": {
         "data": {
          "bar": [
           {
            "error_x": {
             "color": "#2a3f5f"
            },
            "error_y": {
             "color": "#2a3f5f"
            },
            "marker": {
             "line": {
              "color": "#E5ECF6",
              "width": 0.5
             },
             "pattern": {
              "fillmode": "overlay",
              "size": 10,
              "solidity": 0.2
             }
            },
            "type": "bar"
           }
          ],
          "barpolar": [
           {
            "marker": {
             "line": {
              "color": "#E5ECF6",
              "width": 0.5
             },
             "pattern": {
              "fillmode": "overlay",
              "size": 10,
              "solidity": 0.2
             }
            },
            "type": "barpolar"
           }
          ],
          "carpet": [
           {
            "aaxis": {
             "endlinecolor": "#2a3f5f",
             "gridcolor": "white",
             "linecolor": "white",
             "minorgridcolor": "white",
             "startlinecolor": "#2a3f5f"
            },
            "baxis": {
             "endlinecolor": "#2a3f5f",
             "gridcolor": "white",
             "linecolor": "white",
             "minorgridcolor": "white",
             "startlinecolor": "#2a3f5f"
            },
            "type": "carpet"
           }
          ],
          "choropleth": [
           {
            "colorbar": {
             "outlinewidth": 0,
             "ticks": ""
            },
            "type": "choropleth"
           }
          ],
          "contour": [
           {
            "colorbar": {
             "outlinewidth": 0,
             "ticks": ""
            },
            "colorscale": [
             [
              0,
              "#0d0887"
             ],
             [
              0.1111111111111111,
              "#46039f"
             ],
             [
              0.2222222222222222,
              "#7201a8"
             ],
             [
              0.3333333333333333,
              "#9c179e"
             ],
             [
              0.4444444444444444,
              "#bd3786"
             ],
             [
              0.5555555555555556,
              "#d8576b"
             ],
             [
              0.6666666666666666,
              "#ed7953"
             ],
             [
              0.7777777777777778,
              "#fb9f3a"
             ],
             [
              0.8888888888888888,
              "#fdca26"
             ],
             [
              1,
              "#f0f921"
             ]
            ],
            "type": "contour"
           }
          ],
          "contourcarpet": [
           {
            "colorbar": {
             "outlinewidth": 0,
             "ticks": ""
            },
            "type": "contourcarpet"
           }
          ],
          "heatmap": [
           {
            "colorbar": {
             "outlinewidth": 0,
             "ticks": ""
            },
            "colorscale": [
             [
              0,
              "#0d0887"
             ],
             [
              0.1111111111111111,
              "#46039f"
             ],
             [
              0.2222222222222222,
              "#7201a8"
             ],
             [
              0.3333333333333333,
              "#9c179e"
             ],
             [
              0.4444444444444444,
              "#bd3786"
             ],
             [
              0.5555555555555556,
              "#d8576b"
             ],
             [
              0.6666666666666666,
              "#ed7953"
             ],
             [
              0.7777777777777778,
              "#fb9f3a"
             ],
             [
              0.8888888888888888,
              "#fdca26"
             ],
             [
              1,
              "#f0f921"
             ]
            ],
            "type": "heatmap"
           }
          ],
          "heatmapgl": [
           {
            "colorbar": {
             "outlinewidth": 0,
             "ticks": ""
            },
            "colorscale": [
             [
              0,
              "#0d0887"
             ],
             [
              0.1111111111111111,
              "#46039f"
             ],
             [
              0.2222222222222222,
              "#7201a8"
             ],
             [
              0.3333333333333333,
              "#9c179e"
             ],
             [
              0.4444444444444444,
              "#bd3786"
             ],
             [
              0.5555555555555556,
              "#d8576b"
             ],
             [
              0.6666666666666666,
              "#ed7953"
             ],
             [
              0.7777777777777778,
              "#fb9f3a"
             ],
             [
              0.8888888888888888,
              "#fdca26"
             ],
             [
              1,
              "#f0f921"
             ]
            ],
            "type": "heatmapgl"
           }
          ],
          "histogram": [
           {
            "marker": {
             "pattern": {
              "fillmode": "overlay",
              "size": 10,
              "solidity": 0.2
             }
            },
            "type": "histogram"
           }
          ],
          "histogram2d": [
           {
            "colorbar": {
             "outlinewidth": 0,
             "ticks": ""
            },
            "colorscale": [
             [
              0,
              "#0d0887"
             ],
             [
              0.1111111111111111,
              "#46039f"
             ],
             [
              0.2222222222222222,
              "#7201a8"
             ],
             [
              0.3333333333333333,
              "#9c179e"
             ],
             [
              0.4444444444444444,
              "#bd3786"
             ],
             [
              0.5555555555555556,
              "#d8576b"
             ],
             [
              0.6666666666666666,
              "#ed7953"
             ],
             [
              0.7777777777777778,
              "#fb9f3a"
             ],
             [
              0.8888888888888888,
              "#fdca26"
             ],
             [
              1,
              "#f0f921"
             ]
            ],
            "type": "histogram2d"
           }
          ],
          "histogram2dcontour": [
           {
            "colorbar": {
             "outlinewidth": 0,
             "ticks": ""
            },
            "colorscale": [
             [
              0,
              "#0d0887"
             ],
             [
              0.1111111111111111,
              "#46039f"
             ],
             [
              0.2222222222222222,
              "#7201a8"
             ],
             [
              0.3333333333333333,
              "#9c179e"
             ],
             [
              0.4444444444444444,
              "#bd3786"
             ],
             [
              0.5555555555555556,
              "#d8576b"
             ],
             [
              0.6666666666666666,
              "#ed7953"
             ],
             [
              0.7777777777777778,
              "#fb9f3a"
             ],
             [
              0.8888888888888888,
              "#fdca26"
             ],
             [
              1,
              "#f0f921"
             ]
            ],
            "type": "histogram2dcontour"
           }
          ],
          "mesh3d": [
           {
            "colorbar": {
             "outlinewidth": 0,
             "ticks": ""
            },
            "type": "mesh3d"
           }
          ],
          "parcoords": [
           {
            "line": {
             "colorbar": {
              "outlinewidth": 0,
              "ticks": ""
             }
            },
            "type": "parcoords"
           }
          ],
          "pie": [
           {
            "automargin": true,
            "type": "pie"
           }
          ],
          "scatter": [
           {
            "marker": {
             "colorbar": {
              "outlinewidth": 0,
              "ticks": ""
             }
            },
            "type": "scatter"
           }
          ],
          "scatter3d": [
           {
            "line": {
             "colorbar": {
              "outlinewidth": 0,
              "ticks": ""
             }
            },
            "marker": {
             "colorbar": {
              "outlinewidth": 0,
              "ticks": ""
             }
            },
            "type": "scatter3d"
           }
          ],
          "scattercarpet": [
           {
            "marker": {
             "colorbar": {
              "outlinewidth": 0,
              "ticks": ""
             }
            },
            "type": "scattercarpet"
           }
          ],
          "scattergeo": [
           {
            "marker": {
             "colorbar": {
              "outlinewidth": 0,
              "ticks": ""
             }
            },
            "type": "scattergeo"
           }
          ],
          "scattergl": [
           {
            "marker": {
             "colorbar": {
              "outlinewidth": 0,
              "ticks": ""
             }
            },
            "type": "scattergl"
           }
          ],
          "scattermapbox": [
           {
            "marker": {
             "colorbar": {
              "outlinewidth": 0,
              "ticks": ""
             }
            },
            "type": "scattermapbox"
           }
          ],
          "scatterpolar": [
           {
            "marker": {
             "colorbar": {
              "outlinewidth": 0,
              "ticks": ""
             }
            },
            "type": "scatterpolar"
           }
          ],
          "scatterpolargl": [
           {
            "marker": {
             "colorbar": {
              "outlinewidth": 0,
              "ticks": ""
             }
            },
            "type": "scatterpolargl"
           }
          ],
          "scatterternary": [
           {
            "marker": {
             "colorbar": {
              "outlinewidth": 0,
              "ticks": ""
             }
            },
            "type": "scatterternary"
           }
          ],
          "surface": [
           {
            "colorbar": {
             "outlinewidth": 0,
             "ticks": ""
            },
            "colorscale": [
             [
              0,
              "#0d0887"
             ],
             [
              0.1111111111111111,
              "#46039f"
             ],
             [
              0.2222222222222222,
              "#7201a8"
             ],
             [
              0.3333333333333333,
              "#9c179e"
             ],
             [
              0.4444444444444444,
              "#bd3786"
             ],
             [
              0.5555555555555556,
              "#d8576b"
             ],
             [
              0.6666666666666666,
              "#ed7953"
             ],
             [
              0.7777777777777778,
              "#fb9f3a"
             ],
             [
              0.8888888888888888,
              "#fdca26"
             ],
             [
              1,
              "#f0f921"
             ]
            ],
            "type": "surface"
           }
          ],
          "table": [
           {
            "cells": {
             "fill": {
              "color": "#EBF0F8"
             },
             "line": {
              "color": "white"
             }
            },
            "header": {
             "fill": {
              "color": "#C8D4E3"
             },
             "line": {
              "color": "white"
             }
            },
            "type": "table"
           }
          ]
         },
         "layout": {
          "annotationdefaults": {
           "arrowcolor": "#2a3f5f",
           "arrowhead": 0,
           "arrowwidth": 1
          },
          "autotypenumbers": "strict",
          "coloraxis": {
           "colorbar": {
            "outlinewidth": 0,
            "ticks": ""
           }
          },
          "colorscale": {
           "diverging": [
            [
             0,
             "#8e0152"
            ],
            [
             0.1,
             "#c51b7d"
            ],
            [
             0.2,
             "#de77ae"
            ],
            [
             0.3,
             "#f1b6da"
            ],
            [
             0.4,
             "#fde0ef"
            ],
            [
             0.5,
             "#f7f7f7"
            ],
            [
             0.6,
             "#e6f5d0"
            ],
            [
             0.7,
             "#b8e186"
            ],
            [
             0.8,
             "#7fbc41"
            ],
            [
             0.9,
             "#4d9221"
            ],
            [
             1,
             "#276419"
            ]
           ],
           "sequential": [
            [
             0,
             "#0d0887"
            ],
            [
             0.1111111111111111,
             "#46039f"
            ],
            [
             0.2222222222222222,
             "#7201a8"
            ],
            [
             0.3333333333333333,
             "#9c179e"
            ],
            [
             0.4444444444444444,
             "#bd3786"
            ],
            [
             0.5555555555555556,
             "#d8576b"
            ],
            [
             0.6666666666666666,
             "#ed7953"
            ],
            [
             0.7777777777777778,
             "#fb9f3a"
            ],
            [
             0.8888888888888888,
             "#fdca26"
            ],
            [
             1,
             "#f0f921"
            ]
           ],
           "sequentialminus": [
            [
             0,
             "#0d0887"
            ],
            [
             0.1111111111111111,
             "#46039f"
            ],
            [
             0.2222222222222222,
             "#7201a8"
            ],
            [
             0.3333333333333333,
             "#9c179e"
            ],
            [
             0.4444444444444444,
             "#bd3786"
            ],
            [
             0.5555555555555556,
             "#d8576b"
            ],
            [
             0.6666666666666666,
             "#ed7953"
            ],
            [
             0.7777777777777778,
             "#fb9f3a"
            ],
            [
             0.8888888888888888,
             "#fdca26"
            ],
            [
             1,
             "#f0f921"
            ]
           ]
          },
          "colorway": [
           "#636efa",
           "#EF553B",
           "#00cc96",
           "#ab63fa",
           "#FFA15A",
           "#19d3f3",
           "#FF6692",
           "#B6E880",
           "#FF97FF",
           "#FECB52"
          ],
          "font": {
           "color": "#2a3f5f"
          },
          "geo": {
           "bgcolor": "white",
           "lakecolor": "white",
           "landcolor": "#E5ECF6",
           "showlakes": true,
           "showland": true,
           "subunitcolor": "white"
          },
          "hoverlabel": {
           "align": "left"
          },
          "hovermode": "closest",
          "mapbox": {
           "style": "light"
          },
          "paper_bgcolor": "white",
          "plot_bgcolor": "#E5ECF6",
          "polar": {
           "angularaxis": {
            "gridcolor": "white",
            "linecolor": "white",
            "ticks": ""
           },
           "bgcolor": "#E5ECF6",
           "radialaxis": {
            "gridcolor": "white",
            "linecolor": "white",
            "ticks": ""
           }
          },
          "scene": {
           "xaxis": {
            "backgroundcolor": "#E5ECF6",
            "gridcolor": "white",
            "gridwidth": 2,
            "linecolor": "white",
            "showbackground": true,
            "ticks": "",
            "zerolinecolor": "white"
           },
           "yaxis": {
            "backgroundcolor": "#E5ECF6",
            "gridcolor": "white",
            "gridwidth": 2,
            "linecolor": "white",
            "showbackground": true,
            "ticks": "",
            "zerolinecolor": "white"
           },
           "zaxis": {
            "backgroundcolor": "#E5ECF6",
            "gridcolor": "white",
            "gridwidth": 2,
            "linecolor": "white",
            "showbackground": true,
            "ticks": "",
            "zerolinecolor": "white"
           }
          },
          "shapedefaults": {
           "line": {
            "color": "#2a3f5f"
           }
          },
          "ternary": {
           "aaxis": {
            "gridcolor": "white",
            "linecolor": "white",
            "ticks": ""
           },
           "baxis": {
            "gridcolor": "white",
            "linecolor": "white",
            "ticks": ""
           },
           "bgcolor": "#E5ECF6",
           "caxis": {
            "gridcolor": "white",
            "linecolor": "white",
            "ticks": ""
           }
          },
          "title": {
           "x": 0.05
          },
          "xaxis": {
           "automargin": true,
           "gridcolor": "white",
           "linecolor": "white",
           "ticks": "",
           "title": {
            "standoff": 15
           },
           "zerolinecolor": "white",
           "zerolinewidth": 2
          },
          "yaxis": {
           "automargin": true,
           "gridcolor": "white",
           "linecolor": "white",
           "ticks": "",
           "title": {
            "standoff": 15
           },
           "zerolinecolor": "white",
           "zerolinewidth": 2
          }
         }
        },
        "title": {
         "text": "Amount of houses for each number of bathrooms"
        },
        "xaxis": {
         "anchor": "y",
         "domain": [
          0,
          1
         ],
         "title": {
          "text": "Number of bathrooms"
         }
        },
        "yaxis": {
         "anchor": "x",
         "domain": [
          0,
          1
         ],
         "title": {
          "text": "Number of houses"
         }
        }
       }
      },
      "text/html": [
       "<div>                            <div id=\"eeabf509-07bb-4264-84d9-e47facb4a7c3\" class=\"plotly-graph-div\" style=\"height:525px; width:100%;\"></div>            <script type=\"text/javascript\">                require([\"plotly\"], function(Plotly) {                    window.PLOTLYENV=window.PLOTLYENV || {};                                    if (document.getElementById(\"eeabf509-07bb-4264-84d9-e47facb4a7c3\")) {                    Plotly.newPlot(                        \"eeabf509-07bb-4264-84d9-e47facb4a7c3\",                        [{\"alignmentgroup\":\"True\",\"hovertemplate\":\"bathrooms=%{x}<br>count=%{y}<extra></extra>\",\"legendgroup\":\"\",\"marker\":{\"color\":\"#636efa\",\"pattern\":{\"shape\":\"\"}},\"name\":\"\",\"offsetgroup\":\"\",\"orientation\":\"v\",\"showlegend\":false,\"textposition\":\"auto\",\"type\":\"bar\",\"x\":[2.5,1.0,1.75,2.25,2.0,1.5,2.75,3.0,3.5,3.25,0.75,3.75,4.0,4.5,4.25,0.0,5.0,1.25,4.75,0.5,5.25,6.0,5.5,7.5,6.75,5.75],\"xaxis\":\"x\",\"y\":[5141,3847,3008,1939,1903,1429,1074,643,512,393,72,71,61,47,25,8,7,7,4,4,2,1,1,1,1,1],\"yaxis\":\"y\"}],                        {\"barmode\":\"relative\",\"font\":{\"size\":20},\"legend\":{\"tracegroupgap\":0},\"margin\":{\"t\":60},\"template\":{\"data\":{\"bar\":[{\"error_x\":{\"color\":\"#2a3f5f\"},\"error_y\":{\"color\":\"#2a3f5f\"},\"marker\":{\"line\":{\"color\":\"#E5ECF6\",\"width\":0.5},\"pattern\":{\"fillmode\":\"overlay\",\"size\":10,\"solidity\":0.2}},\"type\":\"bar\"}],\"barpolar\":[{\"marker\":{\"line\":{\"color\":\"#E5ECF6\",\"width\":0.5},\"pattern\":{\"fillmode\":\"overlay\",\"size\":10,\"solidity\":0.2}},\"type\":\"barpolar\"}],\"carpet\":[{\"aaxis\":{\"endlinecolor\":\"#2a3f5f\",\"gridcolor\":\"white\",\"linecolor\":\"white\",\"minorgridcolor\":\"white\",\"startlinecolor\":\"#2a3f5f\"},\"baxis\":{\"endlinecolor\":\"#2a3f5f\",\"gridcolor\":\"white\",\"linecolor\":\"white\",\"minorgridcolor\":\"white\",\"startlinecolor\":\"#2a3f5f\"},\"type\":\"carpet\"}],\"choropleth\":[{\"colorbar\":{\"outlinewidth\":0,\"ticks\":\"\"},\"type\":\"choropleth\"}],\"contour\":[{\"colorbar\":{\"outlinewidth\":0,\"ticks\":\"\"},\"colorscale\":[[0.0,\"#0d0887\"],[0.1111111111111111,\"#46039f\"],[0.2222222222222222,\"#7201a8\"],[0.3333333333333333,\"#9c179e\"],[0.4444444444444444,\"#bd3786\"],[0.5555555555555556,\"#d8576b\"],[0.6666666666666666,\"#ed7953\"],[0.7777777777777778,\"#fb9f3a\"],[0.8888888888888888,\"#fdca26\"],[1.0,\"#f0f921\"]],\"type\":\"contour\"}],\"contourcarpet\":[{\"colorbar\":{\"outlinewidth\":0,\"ticks\":\"\"},\"type\":\"contourcarpet\"}],\"heatmap\":[{\"colorbar\":{\"outlinewidth\":0,\"ticks\":\"\"},\"colorscale\":[[0.0,\"#0d0887\"],[0.1111111111111111,\"#46039f\"],[0.2222222222222222,\"#7201a8\"],[0.3333333333333333,\"#9c179e\"],[0.4444444444444444,\"#bd3786\"],[0.5555555555555556,\"#d8576b\"],[0.6666666666666666,\"#ed7953\"],[0.7777777777777778,\"#fb9f3a\"],[0.8888888888888888,\"#fdca26\"],[1.0,\"#f0f921\"]],\"type\":\"heatmap\"}],\"heatmapgl\":[{\"colorbar\":{\"outlinewidth\":0,\"ticks\":\"\"},\"colorscale\":[[0.0,\"#0d0887\"],[0.1111111111111111,\"#46039f\"],[0.2222222222222222,\"#7201a8\"],[0.3333333333333333,\"#9c179e\"],[0.4444444444444444,\"#bd3786\"],[0.5555555555555556,\"#d8576b\"],[0.6666666666666666,\"#ed7953\"],[0.7777777777777778,\"#fb9f3a\"],[0.8888888888888888,\"#fdca26\"],[1.0,\"#f0f921\"]],\"type\":\"heatmapgl\"}],\"histogram\":[{\"marker\":{\"pattern\":{\"fillmode\":\"overlay\",\"size\":10,\"solidity\":0.2}},\"type\":\"histogram\"}],\"histogram2d\":[{\"colorbar\":{\"outlinewidth\":0,\"ticks\":\"\"},\"colorscale\":[[0.0,\"#0d0887\"],[0.1111111111111111,\"#46039f\"],[0.2222222222222222,\"#7201a8\"],[0.3333333333333333,\"#9c179e\"],[0.4444444444444444,\"#bd3786\"],[0.5555555555555556,\"#d8576b\"],[0.6666666666666666,\"#ed7953\"],[0.7777777777777778,\"#fb9f3a\"],[0.8888888888888888,\"#fdca26\"],[1.0,\"#f0f921\"]],\"type\":\"histogram2d\"}],\"histogram2dcontour\":[{\"colorbar\":{\"outlinewidth\":0,\"ticks\":\"\"},\"colorscale\":[[0.0,\"#0d0887\"],[0.1111111111111111,\"#46039f\"],[0.2222222222222222,\"#7201a8\"],[0.3333333333333333,\"#9c179e\"],[0.4444444444444444,\"#bd3786\"],[0.5555555555555556,\"#d8576b\"],[0.6666666666666666,\"#ed7953\"],[0.7777777777777778,\"#fb9f3a\"],[0.8888888888888888,\"#fdca26\"],[1.0,\"#f0f921\"]],\"type\":\"histogram2dcontour\"}],\"mesh3d\":[{\"colorbar\":{\"outlinewidth\":0,\"ticks\":\"\"},\"type\":\"mesh3d\"}],\"parcoords\":[{\"line\":{\"colorbar\":{\"outlinewidth\":0,\"ticks\":\"\"}},\"type\":\"parcoords\"}],\"pie\":[{\"automargin\":true,\"type\":\"pie\"}],\"scatter\":[{\"marker\":{\"colorbar\":{\"outlinewidth\":0,\"ticks\":\"\"}},\"type\":\"scatter\"}],\"scatter3d\":[{\"line\":{\"colorbar\":{\"outlinewidth\":0,\"ticks\":\"\"}},\"marker\":{\"colorbar\":{\"outlinewidth\":0,\"ticks\":\"\"}},\"type\":\"scatter3d\"}],\"scattercarpet\":[{\"marker\":{\"colorbar\":{\"outlinewidth\":0,\"ticks\":\"\"}},\"type\":\"scattercarpet\"}],\"scattergeo\":[{\"marker\":{\"colorbar\":{\"outlinewidth\":0,\"ticks\":\"\"}},\"type\":\"scattergeo\"}],\"scattergl\":[{\"marker\":{\"colorbar\":{\"outlinewidth\":0,\"ticks\":\"\"}},\"type\":\"scattergl\"}],\"scattermapbox\":[{\"marker\":{\"colorbar\":{\"outlinewidth\":0,\"ticks\":\"\"}},\"type\":\"scattermapbox\"}],\"scatterpolar\":[{\"marker\":{\"colorbar\":{\"outlinewidth\":0,\"ticks\":\"\"}},\"type\":\"scatterpolar\"}],\"scatterpolargl\":[{\"marker\":{\"colorbar\":{\"outlinewidth\":0,\"ticks\":\"\"}},\"type\":\"scatterpolargl\"}],\"scatterternary\":[{\"marker\":{\"colorbar\":{\"outlinewidth\":0,\"ticks\":\"\"}},\"type\":\"scatterternary\"}],\"surface\":[{\"colorbar\":{\"outlinewidth\":0,\"ticks\":\"\"},\"colorscale\":[[0.0,\"#0d0887\"],[0.1111111111111111,\"#46039f\"],[0.2222222222222222,\"#7201a8\"],[0.3333333333333333,\"#9c179e\"],[0.4444444444444444,\"#bd3786\"],[0.5555555555555556,\"#d8576b\"],[0.6666666666666666,\"#ed7953\"],[0.7777777777777778,\"#fb9f3a\"],[0.8888888888888888,\"#fdca26\"],[1.0,\"#f0f921\"]],\"type\":\"surface\"}],\"table\":[{\"cells\":{\"fill\":{\"color\":\"#EBF0F8\"},\"line\":{\"color\":\"white\"}},\"header\":{\"fill\":{\"color\":\"#C8D4E3\"},\"line\":{\"color\":\"white\"}},\"type\":\"table\"}]},\"layout\":{\"annotationdefaults\":{\"arrowcolor\":\"#2a3f5f\",\"arrowhead\":0,\"arrowwidth\":1},\"autotypenumbers\":\"strict\",\"coloraxis\":{\"colorbar\":{\"outlinewidth\":0,\"ticks\":\"\"}},\"colorscale\":{\"diverging\":[[0,\"#8e0152\"],[0.1,\"#c51b7d\"],[0.2,\"#de77ae\"],[0.3,\"#f1b6da\"],[0.4,\"#fde0ef\"],[0.5,\"#f7f7f7\"],[0.6,\"#e6f5d0\"],[0.7,\"#b8e186\"],[0.8,\"#7fbc41\"],[0.9,\"#4d9221\"],[1,\"#276419\"]],\"sequential\":[[0.0,\"#0d0887\"],[0.1111111111111111,\"#46039f\"],[0.2222222222222222,\"#7201a8\"],[0.3333333333333333,\"#9c179e\"],[0.4444444444444444,\"#bd3786\"],[0.5555555555555556,\"#d8576b\"],[0.6666666666666666,\"#ed7953\"],[0.7777777777777778,\"#fb9f3a\"],[0.8888888888888888,\"#fdca26\"],[1.0,\"#f0f921\"]],\"sequentialminus\":[[0.0,\"#0d0887\"],[0.1111111111111111,\"#46039f\"],[0.2222222222222222,\"#7201a8\"],[0.3333333333333333,\"#9c179e\"],[0.4444444444444444,\"#bd3786\"],[0.5555555555555556,\"#d8576b\"],[0.6666666666666666,\"#ed7953\"],[0.7777777777777778,\"#fb9f3a\"],[0.8888888888888888,\"#fdca26\"],[1.0,\"#f0f921\"]]},\"colorway\":[\"#636efa\",\"#EF553B\",\"#00cc96\",\"#ab63fa\",\"#FFA15A\",\"#19d3f3\",\"#FF6692\",\"#B6E880\",\"#FF97FF\",\"#FECB52\"],\"font\":{\"color\":\"#2a3f5f\"},\"geo\":{\"bgcolor\":\"white\",\"lakecolor\":\"white\",\"landcolor\":\"#E5ECF6\",\"showlakes\":true,\"showland\":true,\"subunitcolor\":\"white\"},\"hoverlabel\":{\"align\":\"left\"},\"hovermode\":\"closest\",\"mapbox\":{\"style\":\"light\"},\"paper_bgcolor\":\"white\",\"plot_bgcolor\":\"#E5ECF6\",\"polar\":{\"angularaxis\":{\"gridcolor\":\"white\",\"linecolor\":\"white\",\"ticks\":\"\"},\"bgcolor\":\"#E5ECF6\",\"radialaxis\":{\"gridcolor\":\"white\",\"linecolor\":\"white\",\"ticks\":\"\"}},\"scene\":{\"xaxis\":{\"backgroundcolor\":\"#E5ECF6\",\"gridcolor\":\"white\",\"gridwidth\":2,\"linecolor\":\"white\",\"showbackground\":true,\"ticks\":\"\",\"zerolinecolor\":\"white\"},\"yaxis\":{\"backgroundcolor\":\"#E5ECF6\",\"gridcolor\":\"white\",\"gridwidth\":2,\"linecolor\":\"white\",\"showbackground\":true,\"ticks\":\"\",\"zerolinecolor\":\"white\"},\"zaxis\":{\"backgroundcolor\":\"#E5ECF6\",\"gridcolor\":\"white\",\"gridwidth\":2,\"linecolor\":\"white\",\"showbackground\":true,\"ticks\":\"\",\"zerolinecolor\":\"white\"}},\"shapedefaults\":{\"line\":{\"color\":\"#2a3f5f\"}},\"ternary\":{\"aaxis\":{\"gridcolor\":\"white\",\"linecolor\":\"white\",\"ticks\":\"\"},\"baxis\":{\"gridcolor\":\"white\",\"linecolor\":\"white\",\"ticks\":\"\"},\"bgcolor\":\"#E5ECF6\",\"caxis\":{\"gridcolor\":\"white\",\"linecolor\":\"white\",\"ticks\":\"\"}},\"title\":{\"x\":0.05},\"xaxis\":{\"automargin\":true,\"gridcolor\":\"white\",\"linecolor\":\"white\",\"ticks\":\"\",\"title\":{\"standoff\":15},\"zerolinecolor\":\"white\",\"zerolinewidth\":2},\"yaxis\":{\"automargin\":true,\"gridcolor\":\"white\",\"linecolor\":\"white\",\"ticks\":\"\",\"title\":{\"standoff\":15},\"zerolinecolor\":\"white\",\"zerolinewidth\":2}}},\"title\":{\"text\":\"Amount of houses for each number of bathrooms\"},\"xaxis\":{\"anchor\":\"y\",\"domain\":[0.0,1.0],\"title\":{\"text\":\"Number of bathrooms\"}},\"yaxis\":{\"anchor\":\"x\",\"domain\":[0.0,1.0],\"title\":{\"text\":\"Number of houses\"}}},                        {\"responsive\": true}                    ).then(function(){\n",
       "                            \n",
       "var gd = document.getElementById('eeabf509-07bb-4264-84d9-e47facb4a7c3');\n",
       "var x = new MutationObserver(function (mutations, observer) {{\n",
       "        var display = window.getComputedStyle(gd).display;\n",
       "        if (!display || display === 'none') {{\n",
       "            console.log([gd, 'removed!']);\n",
       "            Plotly.purge(gd);\n",
       "            observer.disconnect();\n",
       "        }}\n",
       "}});\n",
       "\n",
       "// Listen for the removal of the full notebook cells\n",
       "var notebookContainer = gd.closest('#notebook-container');\n",
       "if (notebookContainer) {{\n",
       "    x.observe(notebookContainer, {childList: true});\n",
       "}}\n",
       "\n",
       "// Listen for the clearing of the current output cell\n",
       "var outputEl = gd.closest('.output');\n",
       "if (outputEl) {{\n",
       "    x.observe(outputEl, {childList: true});\n",
       "}}\n",
       "\n",
       "                        })                };                });            </script>        </div>"
      ]
     },
     "metadata": {},
     "output_type": "display_data"
    },
    {
     "name": "stdout",
     "output_type": "stream",
     "text": [
      "From the chart, we can see that the amount of houses where the number of bathrooms is higher or equal 1 and less or equal than 2.25 represents the major part of the houses. That indicate people prefere these houses. So the recommendation is to buy this kind of houses, due to will easier to trade. Let's estimate the profit by trading with these kind of houses.\n",
      "3847\n",
      "245\n"
     ]
    }
   ],
   "source": [
    "import plotly.express as px\n",
    "H5 = 'House that have more than one bathroom are, in average, 15% more expensive.'\n",
    "print('H5 - ' + H5)\n",
    "\n",
    "# Select houses with one bathroom\n",
    "# Take the averaged price per zipcode and condition\n",
    "data_onebathroom = data.loc[data['bathrooms'] <= 1, ['condition', 'zipcode', 'price']].groupby(['condition', 'zipcode']).median().reset_index()\n",
    "data_onebathroom.columns = ['condition', 'zipcode', 'median_price']\n",
    "\n",
    "# Select houses with more than one bathroo\n",
    "# Take the averaged price per zipcode and condition\n",
    "data_m_onebathrooms = data.loc[data['bathrooms'] > 1, ['condition', 'zipcode', 'price']].groupby(['condition', 'zipcode']).median().reset_index()\n",
    "data_m_onebathrooms.columns = ['condition', 'zipcode', 'median_price']\n",
    "\n",
    "profit = []\n",
    "for i in range(len(data_onebathroom)):\n",
    "    for k in range(len(data_m_onebathrooms)):\n",
    "        if (data_onebathroom.loc[i,'zipcode'] == data_m_onebathrooms.loc[k,'zipcode']) & (data_onebathroom.loc[i,'condition'] == data_m_onebathrooms.loc[k,'condition']):\n",
    "            profit.append(100*(data_m_onebathrooms.loc[k, 'median_price']/data_onebathroom.loc[i, 'median_price'] - 1))\n",
    "\n",
    "avg_price_ratio = pd.DataFrame()\n",
    "avg_price_ratio['avg_price_ratio'] = profit\n",
    "avg_price_ratio.dropna(axis = 0, inplace= True)\n",
    "print(' - Value found: %.1f' % avg_price_ratio['avg_price_ratio'].mean(),'%')\n",
    "print(\" - H5 confirmed\")\n",
    "\n",
    "print('Houses with more than one bathrooms are, in average, about 44% more expensive')\n",
    "print('Lets see how many houses there are in the portifolio for each amount of bathrooms.')\n",
    "\n",
    "bathrooms = data['bathrooms'].unique().tolist()\n",
    "bath_count = data['bathrooms'].value_counts().to_frame().reset_index()\n",
    "bath_count.columns = ['bathrooms','count']\n",
    "\n",
    "fig = px.bar(bath_count, x = 'bathrooms', y = 'count')\n",
    "fig.update_layout(\n",
    "    font_size = 20,\n",
    "    title = 'Amount of houses for each number of bathrooms',\n",
    "    xaxis_title = 'Number of bathrooms',\n",
    "    yaxis_title = 'Number of houses'\n",
    ")\n",
    "fig.show()\n",
    "print(\"From the chart, we can see that the amount of houses where the number of bathrooms is higher or equal 1 and less or equal than 2.25 represents the major part of the houses. That indicate people prefere these houses. So the recommendation is to buy this kind of houses, due to will easier to trade. Let's estimate the profit by trading with these kind of houses.\")\n",
    "\n",
    "data_m_onebathrooms = data.loc[(data['bathrooms'] >= 1) & (data['bathrooms'] <= 2.5), ['bathrooms','condition','zipcode','price']].groupby(['bathrooms', 'condition', 'zipcode']).median().reset_index()\n",
    "data_m_onebathrooms.columns = ['bathrooms','condition', 'zipcode', 'median_price']\n",
    "bathrooms = data_m_onebathrooms['bathrooms'].unique().tolist()\n",
    "\n",
    "print(data.loc[data['bathrooms'] == bathrooms[0],'id'].count())\n",
    "print(data_m_onebathrooms.loc[data_m_onebathrooms['bathrooms'] == bathrooms[0],'bathrooms'].count())\n",
    "bath_count.head()\n",
    "\n",
    "house_data.clear()\n",
    "for bathroom in bathrooms:\n",
    "    data_aux_1 = data.loc[data['bathrooms'] == bathroom].reset_index() \n",
    "    data_aux_2 = data_m_onebathrooms.loc[data_m_onebathrooms['bathrooms'] == bathroom].reset_index()\n",
    "    for i in range(len(data_aux_2)):\n",
    "        for k in range(len(data_aux_1)):\n",
    "            if (data_aux_2.loc[i, 'median_price'] > data_aux_1.loc[k, 'price']) & (data_aux_2.loc[i,'zipcode'] == data_aux_1.loc[k,'zipcode']) & (data_aux_2.loc[i,'condition'] == data_aux_1.loc[k,'condition']):\n",
    "                house_data.append([(data_aux_2.loc[i,'median_price'] - data_aux_1.loc[k, 'price']),100*(data_aux_2.loc[i, 'median_price']/data_aux_1.loc[k, 'price'] - 1), data_aux_2.loc[i, 'median_price'],data_aux_1.loc[k, 'id']])\n"
   ]
  },
  {
   "cell_type": "code",
   "execution_count": 7,
   "id": "4bcebfa0",
   "metadata": {
    "scrolled": false
   },
   "outputs": [
    {
     "name": "stdout",
     "output_type": "stream",
     "text": [
      "8220\n",
      "Este é o tamnho da amostra =  8399\n",
      "Este é o tamnho da amostra =  8315\n",
      "Profit estimation\n",
      "Minimal estimated profit, 0.0 %\n",
      "Maximum estimated profit, 299.6 %\n",
      "Maximum estimated profit, 20.6 %\n"
     ]
    },
    {
     "data": {
      "text/html": [
       "<div>\n",
       "<style scoped>\n",
       "    .dataframe tbody tr th:only-of-type {\n",
       "        vertical-align: middle;\n",
       "    }\n",
       "\n",
       "    .dataframe tbody tr th {\n",
       "        vertical-align: top;\n",
       "    }\n",
       "\n",
       "    .dataframe thead th {\n",
       "        text-align: right;\n",
       "    }\n",
       "</style>\n",
       "<table border=\"1\" class=\"dataframe\">\n",
       "  <thead>\n",
       "    <tr style=\"text-align: right;\">\n",
       "      <th></th>\n",
       "      <th>level_0</th>\n",
       "      <th>id</th>\n",
       "      <th>date</th>\n",
       "      <th>price</th>\n",
       "      <th>bedrooms</th>\n",
       "      <th>bathrooms</th>\n",
       "      <th>sqft_living</th>\n",
       "      <th>sqft_lot</th>\n",
       "      <th>floors</th>\n",
       "      <th>waterfront</th>\n",
       "      <th>...</th>\n",
       "      <th>zipcode</th>\n",
       "      <th>lat</th>\n",
       "      <th>long</th>\n",
       "      <th>sqft_living15</th>\n",
       "      <th>sqft_lot15</th>\n",
       "      <th>median_price</th>\n",
       "      <th>estimate_profit</th>\n",
       "      <th>estimate_profit%</th>\n",
       "      <th>x%_lower</th>\n",
       "      <th>hypothesis</th>\n",
       "    </tr>\n",
       "  </thead>\n",
       "  <tbody>\n",
       "    <tr>\n",
       "      <th>0</th>\n",
       "      <td>0</td>\n",
       "      <td>9272202260</td>\n",
       "      <td>20140924T000000</td>\n",
       "      <td>130000.0</td>\n",
       "      <td>3</td>\n",
       "      <td>1.0</td>\n",
       "      <td>1200</td>\n",
       "      <td>7000</td>\n",
       "      <td>2.0</td>\n",
       "      <td>0</td>\n",
       "      <td>...</td>\n",
       "      <td>98116</td>\n",
       "      <td>47.5883</td>\n",
       "      <td>-122.384</td>\n",
       "      <td>3290</td>\n",
       "      <td>6000</td>\n",
       "      <td>210000.0</td>\n",
       "      <td>80000.0</td>\n",
       "      <td>61.5</td>\n",
       "      <td>38.1</td>\n",
       "      <td>H5</td>\n",
       "    </tr>\n",
       "    <tr>\n",
       "      <th>1</th>\n",
       "      <td>1</td>\n",
       "      <td>2023049218</td>\n",
       "      <td>20140716T000000</td>\n",
       "      <td>105500.0</td>\n",
       "      <td>2</td>\n",
       "      <td>1.0</td>\n",
       "      <td>930</td>\n",
       "      <td>7740</td>\n",
       "      <td>1.0</td>\n",
       "      <td>0</td>\n",
       "      <td>...</td>\n",
       "      <td>98148</td>\n",
       "      <td>47.4611</td>\n",
       "      <td>-122.324</td>\n",
       "      <td>1620</td>\n",
       "      <td>8584</td>\n",
       "      <td>275250.0</td>\n",
       "      <td>169750.0</td>\n",
       "      <td>160.9</td>\n",
       "      <td>61.7</td>\n",
       "      <td>H5</td>\n",
       "    </tr>\n",
       "    <tr>\n",
       "      <th>2</th>\n",
       "      <td>2</td>\n",
       "      <td>2023049218</td>\n",
       "      <td>20150316T000000</td>\n",
       "      <td>445000.0</td>\n",
       "      <td>2</td>\n",
       "      <td>1.0</td>\n",
       "      <td>930</td>\n",
       "      <td>7740</td>\n",
       "      <td>1.0</td>\n",
       "      <td>0</td>\n",
       "      <td>...</td>\n",
       "      <td>98148</td>\n",
       "      <td>47.4611</td>\n",
       "      <td>-122.324</td>\n",
       "      <td>1620</td>\n",
       "      <td>8584</td>\n",
       "      <td>275250.0</td>\n",
       "      <td>169750.0</td>\n",
       "      <td>160.9</td>\n",
       "      <td>-61.7</td>\n",
       "      <td>H5</td>\n",
       "    </tr>\n",
       "    <tr>\n",
       "      <th>3</th>\n",
       "      <td>3</td>\n",
       "      <td>40000362</td>\n",
       "      <td>20140506T000000</td>\n",
       "      <td>78000.0</td>\n",
       "      <td>2</td>\n",
       "      <td>1.0</td>\n",
       "      <td>780</td>\n",
       "      <td>16344</td>\n",
       "      <td>1.0</td>\n",
       "      <td>0</td>\n",
       "      <td>...</td>\n",
       "      <td>98168</td>\n",
       "      <td>47.4739</td>\n",
       "      <td>-122.280</td>\n",
       "      <td>1700</td>\n",
       "      <td>10387</td>\n",
       "      <td>79500.0</td>\n",
       "      <td>1500.0</td>\n",
       "      <td>1.9</td>\n",
       "      <td>1.9</td>\n",
       "      <td>H5</td>\n",
       "    </tr>\n",
       "    <tr>\n",
       "      <th>4</th>\n",
       "      <td>4</td>\n",
       "      <td>7895500070</td>\n",
       "      <td>20150213T000000</td>\n",
       "      <td>240000.0</td>\n",
       "      <td>4</td>\n",
       "      <td>1.0</td>\n",
       "      <td>1220</td>\n",
       "      <td>8075</td>\n",
       "      <td>1.0</td>\n",
       "      <td>0</td>\n",
       "      <td>...</td>\n",
       "      <td>98001</td>\n",
       "      <td>47.3341</td>\n",
       "      <td>-122.282</td>\n",
       "      <td>1290</td>\n",
       "      <td>7800</td>\n",
       "      <td>254975.0</td>\n",
       "      <td>14975.0</td>\n",
       "      <td>6.2</td>\n",
       "      <td>5.9</td>\n",
       "      <td>H5</td>\n",
       "    </tr>\n",
       "  </tbody>\n",
       "</table>\n",
       "<p>5 rows × 27 columns</p>\n",
       "</div>"
      ],
      "text/plain": [
       "   level_0          id             date     price  bedrooms  bathrooms  \\\n",
       "0        0  9272202260  20140924T000000  130000.0         3        1.0   \n",
       "1        1  2023049218  20140716T000000  105500.0         2        1.0   \n",
       "2        2  2023049218  20150316T000000  445000.0         2        1.0   \n",
       "3        3    40000362  20140506T000000   78000.0         2        1.0   \n",
       "4        4  7895500070  20150213T000000  240000.0         4        1.0   \n",
       "\n",
       "   sqft_living  sqft_lot  floors  waterfront  ...  zipcode      lat     long  \\\n",
       "0         1200      7000     2.0           0  ...    98116  47.5883 -122.384   \n",
       "1          930      7740     1.0           0  ...    98148  47.4611 -122.324   \n",
       "2          930      7740     1.0           0  ...    98148  47.4611 -122.324   \n",
       "3          780     16344     1.0           0  ...    98168  47.4739 -122.280   \n",
       "4         1220      8075     1.0           0  ...    98001  47.3341 -122.282   \n",
       "\n",
       "   sqft_living15  sqft_lot15  median_price  estimate_profit  estimate_profit%  \\\n",
       "0           3290        6000      210000.0          80000.0              61.5   \n",
       "1           1620        8584      275250.0         169750.0             160.9   \n",
       "2           1620        8584      275250.0         169750.0             160.9   \n",
       "3           1700       10387       79500.0           1500.0               1.9   \n",
       "4           1290        7800      254975.0          14975.0               6.2   \n",
       "\n",
       "   x%_lower  hypothesis  \n",
       "0      38.1          H5  \n",
       "1      61.7          H5  \n",
       "2     -61.7          H5  \n",
       "3       1.9          H5  \n",
       "4       5.9          H5  \n",
       "\n",
       "[5 rows x 27 columns]"
      ]
     },
     "execution_count": 7,
     "metadata": {},
     "output_type": "execute_result"
    }
   ],
   "source": [
    "print(len(house_data))\n",
    "sample_h5 = take_houses(data, house_data,'H5')\n",
    "show_profit_estimation(sample_h5)\n",
    "sample_h5.head()"
   ]
  },
  {
   "cell_type": "code",
   "execution_count": 8,
   "id": "f7e6f0d2",
   "metadata": {},
   "outputs": [],
   "source": [
    "#H8\n",
    "data_below_trend_line = data.loc[data['price'] < (data['sqft_living']*167.3602 + 146400), ['id', 'sqft_living','condition', 'zipcode', 'price']].reset_index()\n",
    "house_data = []\n",
    "conditions = data['condition'].unique().tolist()\n",
    "zipcodes = data['zipcode'].unique().tolist()\n",
    "for condition in conditions:\n",
    "    for zipcode in zipcodes:\n",
    "        data_aux = data_below_trend_line.loc[(data_below_trend_line['condition'] == condition) & (data_below_trend_line['zipcode'] == zipcode)].reset_index()\n",
    "        for i in range(len(data_aux)):\n",
    "            house_data.append([data_aux.loc[i,'sqft_living']*167.3602 + 146400 - data_aux.loc[i, 'price'], 100*((data_aux.loc[i,'sqft_living']*167.3602 + 146400)/data_aux.loc[i, 'price'] - 1),data_aux.loc[i,'sqft_living']*167.3602 + 146400, data_aux.loc[i, 'id']])   \n",
    "\n"
   ]
  },
  {
   "cell_type": "code",
   "execution_count": 9,
   "id": "d3c53a6c",
   "metadata": {
    "scrolled": true
   },
   "outputs": [
    {
     "name": "stdout",
     "output_type": "stream",
     "text": [
      "Este é o tamnho da amostra =  11104\n",
      "Este é o tamnho da amostra =  10928\n"
     ]
    },
    {
     "data": {
      "text/html": [
       "<div>\n",
       "<style scoped>\n",
       "    .dataframe tbody tr th:only-of-type {\n",
       "        vertical-align: middle;\n",
       "    }\n",
       "\n",
       "    .dataframe tbody tr th {\n",
       "        vertical-align: top;\n",
       "    }\n",
       "\n",
       "    .dataframe thead th {\n",
       "        text-align: right;\n",
       "    }\n",
       "</style>\n",
       "<table border=\"1\" class=\"dataframe\">\n",
       "  <thead>\n",
       "    <tr style=\"text-align: right;\">\n",
       "      <th></th>\n",
       "      <th>level_0</th>\n",
       "      <th>id</th>\n",
       "      <th>date</th>\n",
       "      <th>price</th>\n",
       "      <th>bedrooms</th>\n",
       "      <th>bathrooms</th>\n",
       "      <th>sqft_living</th>\n",
       "      <th>sqft_lot</th>\n",
       "      <th>floors</th>\n",
       "      <th>waterfront</th>\n",
       "      <th>...</th>\n",
       "      <th>zipcode</th>\n",
       "      <th>lat</th>\n",
       "      <th>long</th>\n",
       "      <th>sqft_living15</th>\n",
       "      <th>sqft_lot15</th>\n",
       "      <th>median_price</th>\n",
       "      <th>estimate_profit</th>\n",
       "      <th>estimate_profit%</th>\n",
       "      <th>x%_lower</th>\n",
       "      <th>hypothesis</th>\n",
       "    </tr>\n",
       "  </thead>\n",
       "  <tbody>\n",
       "    <tr>\n",
       "      <th>0</th>\n",
       "      <td>0</td>\n",
       "      <td>7129300520</td>\n",
       "      <td>20141013T000000</td>\n",
       "      <td>221900.0</td>\n",
       "      <td>3</td>\n",
       "      <td>1.00</td>\n",
       "      <td>1180</td>\n",
       "      <td>5650</td>\n",
       "      <td>1.0</td>\n",
       "      <td>0</td>\n",
       "      <td>...</td>\n",
       "      <td>98178</td>\n",
       "      <td>47.5112</td>\n",
       "      <td>-122.257</td>\n",
       "      <td>1340</td>\n",
       "      <td>5650</td>\n",
       "      <td>343885.036</td>\n",
       "      <td>121985.036</td>\n",
       "      <td>55.0</td>\n",
       "      <td>35.5</td>\n",
       "      <td>H8</td>\n",
       "    </tr>\n",
       "    <tr>\n",
       "      <th>1</th>\n",
       "      <td>1</td>\n",
       "      <td>4058801670</td>\n",
       "      <td>20140717T000000</td>\n",
       "      <td>445000.0</td>\n",
       "      <td>3</td>\n",
       "      <td>2.25</td>\n",
       "      <td>2100</td>\n",
       "      <td>8201</td>\n",
       "      <td>1.0</td>\n",
       "      <td>0</td>\n",
       "      <td>...</td>\n",
       "      <td>98178</td>\n",
       "      <td>47.5091</td>\n",
       "      <td>-122.244</td>\n",
       "      <td>2660</td>\n",
       "      <td>8712</td>\n",
       "      <td>497856.420</td>\n",
       "      <td>52856.420</td>\n",
       "      <td>11.9</td>\n",
       "      <td>10.6</td>\n",
       "      <td>H8</td>\n",
       "    </tr>\n",
       "    <tr>\n",
       "      <th>2</th>\n",
       "      <td>2</td>\n",
       "      <td>2976800796</td>\n",
       "      <td>20140925T000000</td>\n",
       "      <td>236000.0</td>\n",
       "      <td>3</td>\n",
       "      <td>1.00</td>\n",
       "      <td>1300</td>\n",
       "      <td>5898</td>\n",
       "      <td>1.0</td>\n",
       "      <td>0</td>\n",
       "      <td>...</td>\n",
       "      <td>98178</td>\n",
       "      <td>47.5053</td>\n",
       "      <td>-122.255</td>\n",
       "      <td>1320</td>\n",
       "      <td>7619</td>\n",
       "      <td>363968.260</td>\n",
       "      <td>127968.260</td>\n",
       "      <td>54.2</td>\n",
       "      <td>35.2</td>\n",
       "      <td>H8</td>\n",
       "    </tr>\n",
       "    <tr>\n",
       "      <th>3</th>\n",
       "      <td>3</td>\n",
       "      <td>6874200960</td>\n",
       "      <td>20150227T000000</td>\n",
       "      <td>170000.0</td>\n",
       "      <td>2</td>\n",
       "      <td>1.00</td>\n",
       "      <td>860</td>\n",
       "      <td>5265</td>\n",
       "      <td>1.0</td>\n",
       "      <td>0</td>\n",
       "      <td>...</td>\n",
       "      <td>98178</td>\n",
       "      <td>47.5048</td>\n",
       "      <td>-122.272</td>\n",
       "      <td>1650</td>\n",
       "      <td>8775</td>\n",
       "      <td>290329.772</td>\n",
       "      <td>120329.772</td>\n",
       "      <td>70.8</td>\n",
       "      <td>41.4</td>\n",
       "      <td>H8</td>\n",
       "    </tr>\n",
       "    <tr>\n",
       "      <th>4</th>\n",
       "      <td>4</td>\n",
       "      <td>4268200055</td>\n",
       "      <td>20150501T000000</td>\n",
       "      <td>245000.0</td>\n",
       "      <td>3</td>\n",
       "      <td>1.75</td>\n",
       "      <td>1740</td>\n",
       "      <td>11547</td>\n",
       "      <td>1.0</td>\n",
       "      <td>0</td>\n",
       "      <td>...</td>\n",
       "      <td>98178</td>\n",
       "      <td>47.4945</td>\n",
       "      <td>-122.220</td>\n",
       "      <td>880</td>\n",
       "      <td>78408</td>\n",
       "      <td>437606.748</td>\n",
       "      <td>192606.748</td>\n",
       "      <td>78.6</td>\n",
       "      <td>44.0</td>\n",
       "      <td>H8</td>\n",
       "    </tr>\n",
       "  </tbody>\n",
       "</table>\n",
       "<p>5 rows × 27 columns</p>\n",
       "</div>"
      ],
      "text/plain": [
       "   level_0          id             date     price  bedrooms  bathrooms  \\\n",
       "0        0  7129300520  20141013T000000  221900.0         3       1.00   \n",
       "1        1  4058801670  20140717T000000  445000.0         3       2.25   \n",
       "2        2  2976800796  20140925T000000  236000.0         3       1.00   \n",
       "3        3  6874200960  20150227T000000  170000.0         2       1.00   \n",
       "4        4  4268200055  20150501T000000  245000.0         3       1.75   \n",
       "\n",
       "   sqft_living  sqft_lot  floors  waterfront  ...  zipcode      lat     long  \\\n",
       "0         1180      5650     1.0           0  ...    98178  47.5112 -122.257   \n",
       "1         2100      8201     1.0           0  ...    98178  47.5091 -122.244   \n",
       "2         1300      5898     1.0           0  ...    98178  47.5053 -122.255   \n",
       "3          860      5265     1.0           0  ...    98178  47.5048 -122.272   \n",
       "4         1740     11547     1.0           0  ...    98178  47.4945 -122.220   \n",
       "\n",
       "   sqft_living15  sqft_lot15  median_price  estimate_profit  estimate_profit%  \\\n",
       "0           1340        5650    343885.036       121985.036              55.0   \n",
       "1           2660        8712    497856.420        52856.420              11.9   \n",
       "2           1320        7619    363968.260       127968.260              54.2   \n",
       "3           1650        8775    290329.772       120329.772              70.8   \n",
       "4            880       78408    437606.748       192606.748              78.6   \n",
       "\n",
       "   x%_lower  hypothesis  \n",
       "0      35.5          H8  \n",
       "1      10.6          H8  \n",
       "2      35.2          H8  \n",
       "3      41.4          H8  \n",
       "4      44.0          H8  \n",
       "\n",
       "[5 rows x 27 columns]"
      ]
     },
     "execution_count": 9,
     "metadata": {},
     "output_type": "execute_result"
    }
   ],
   "source": [
    "sample_h8 = take_houses(data, house_data, 'H8')\n",
    "sample_h8.head()"
   ]
  },
  {
   "cell_type": "code",
   "execution_count": 11,
   "id": "e580cfe8",
   "metadata": {},
   "outputs": [
    {
     "name": "stdout",
     "output_type": "stream",
     "text": [
      "Profit estimation\n",
      "Minimal estimated profit, 0.0 %\n",
      "Maximum estimated profit, 257.9 %\n",
      "Maximum estimated profit, 42.5 %\n"
     ]
    }
   ],
   "source": [
    "show_profit_estimation(sample_h8)"
   ]
  },
  {
   "cell_type": "code",
   "execution_count": 28,
   "id": "4870e7f4",
   "metadata": {},
   "outputs": [
    {
     "name": "stdout",
     "output_type": "stream",
     "text": [
      "(280, 3)\n",
      "(1124, 5)\n"
     ]
    }
   ],
   "source": [
    "#H9\n",
    "data_zip = data[['price', 'condition', 'zipcode']].groupby(['condition', 'zipcode']).median().reset_index()\n",
    "data_zip.columns = ['condition', 'zipcode', 'median_price']\n",
    "print(data_zip.shape)\n",
    "houses_2010 =  data.loc[(data['yr_built'] >= 2010), ['id', 'price', 'condition', 'zipcode']].reset_index()\n",
    "print(houses_2010.shape)\n",
    "\n",
    "house_data = []\n",
    "for i in range(len(houses_2010)):\n",
    "    for k in range(len(data_zip)):\n",
    "        if (houses_2010.loc[i, 'condition'] == data_zip.loc[k, 'condition']) & (houses_2010.loc[i, 'zipcode'] == data_zip.loc[k, 'zipcode']) & (houses_2010.loc[i, 'price'] < data_zip.loc[k, 'median_price']):\n",
    "            trade.append(100*(data_zip.loc[k, 'median_price']/houses_2010.loc[i, 'price'] - 1))\n",
    "            house_data.append([data_zip.loc[k, 'median_price'] - houses_2010.loc[i, 'price'],100*(data_zip.loc[k, 'median_price']/houses_2010.loc[i, 'price'] - 1), data_zip.loc[k, 'median_price'], houses_2010.loc[i, 'id'] ])    \n",
    "   "
   ]
  },
  {
   "cell_type": "code",
   "execution_count": 29,
   "id": "891a78b8",
   "metadata": {},
   "outputs": [
    {
     "name": "stdout",
     "output_type": "stream",
     "text": [
      "Este é o tamnho da amostra =  284\n",
      "Este é o tamnho da amostra =  284\n",
      "Profit estimation\n",
      "Minimal estimated profit, 0.0 %\n",
      "Maximum estimated profit, 169.7 %\n",
      "Maximum estimated profit, 20.7 %\n"
     ]
    }
   ],
   "source": [
    "# Sample of general data analysis\n",
    "sample_h9 = take_houses(data, house_data, 'H()')\n",
    "sample_h9.head()\n",
    "show_profit_estimation(sample_h9)    \n"
   ]
  },
  {
   "cell_type": "code",
   "execution_count": 82,
   "id": "0f67cfd0",
   "metadata": {
    "scrolled": false
   },
   "outputs": [
    {
     "name": "stdout",
     "output_type": "stream",
     "text": [
      "(24, 26)\n"
     ]
    },
    {
     "data": {
      "text/html": [
       "<div>\n",
       "<style scoped>\n",
       "    .dataframe tbody tr th:only-of-type {\n",
       "        vertical-align: middle;\n",
       "    }\n",
       "\n",
       "    .dataframe tbody tr th {\n",
       "        vertical-align: top;\n",
       "    }\n",
       "\n",
       "    .dataframe thead th {\n",
       "        text-align: right;\n",
       "    }\n",
       "</style>\n",
       "<table border=\"1\" class=\"dataframe\">\n",
       "  <thead>\n",
       "    <tr style=\"text-align: right;\">\n",
       "      <th></th>\n",
       "      <th>id</th>\n",
       "      <th>price</th>\n",
       "      <th>median_price</th>\n",
       "      <th>estimate_profit</th>\n",
       "      <th>estimate_profit%</th>\n",
       "      <th>hypothesis</th>\n",
       "    </tr>\n",
       "  </thead>\n",
       "  <tbody>\n",
       "    <tr>\n",
       "      <th>12</th>\n",
       "      <td>3523029041</td>\n",
       "      <td>290000.0</td>\n",
       "      <td>615000.0</td>\n",
       "      <td>325000.0</td>\n",
       "      <td>112.1</td>\n",
       "      <td>H1</td>\n",
       "    </tr>\n",
       "    <tr>\n",
       "      <th>11</th>\n",
       "      <td>2013802030</td>\n",
       "      <td>357000.0</td>\n",
       "      <td>650000.0</td>\n",
       "      <td>293000.0</td>\n",
       "      <td>82.1</td>\n",
       "      <td>H1</td>\n",
       "    </tr>\n",
       "    <tr>\n",
       "      <th>8</th>\n",
       "      <td>7631800110</td>\n",
       "      <td>380000.0</td>\n",
       "      <td>685000.0</td>\n",
       "      <td>305000.0</td>\n",
       "      <td>80.3</td>\n",
       "      <td>H1</td>\n",
       "    </tr>\n",
       "    <tr>\n",
       "      <th>17</th>\n",
       "      <td>5216200090</td>\n",
       "      <td>385000.0</td>\n",
       "      <td>615000.0</td>\n",
       "      <td>230000.0</td>\n",
       "      <td>59.7</td>\n",
       "      <td>H1</td>\n",
       "    </tr>\n",
       "    <tr>\n",
       "      <th>2</th>\n",
       "      <td>2781600195</td>\n",
       "      <td>285000.0</td>\n",
       "      <td>370000.0</td>\n",
       "      <td>85000.0</td>\n",
       "      <td>29.8</td>\n",
       "      <td>H1</td>\n",
       "    </tr>\n",
       "    <tr>\n",
       "      <th>5</th>\n",
       "      <td>6329000185</td>\n",
       "      <td>540000.0</td>\n",
       "      <td>695750.0</td>\n",
       "      <td>155750.0</td>\n",
       "      <td>28.8</td>\n",
       "      <td>H1</td>\n",
       "    </tr>\n",
       "    <tr>\n",
       "      <th>13</th>\n",
       "      <td>1922039062</td>\n",
       "      <td>480000.0</td>\n",
       "      <td>615000.0</td>\n",
       "      <td>135000.0</td>\n",
       "      <td>28.1</td>\n",
       "      <td>H1</td>\n",
       "    </tr>\n",
       "    <tr>\n",
       "      <th>23</th>\n",
       "      <td>222029026</td>\n",
       "      <td>340000.0</td>\n",
       "      <td>429592.0</td>\n",
       "      <td>89592.0</td>\n",
       "      <td>26.4</td>\n",
       "      <td>H1</td>\n",
       "    </tr>\n",
       "    <tr>\n",
       "      <th>19</th>\n",
       "      <td>2013802060</td>\n",
       "      <td>500000.0</td>\n",
       "      <td>597500.0</td>\n",
       "      <td>97500.0</td>\n",
       "      <td>19.5</td>\n",
       "      <td>H1</td>\n",
       "    </tr>\n",
       "    <tr>\n",
       "      <th>16</th>\n",
       "      <td>7003200120</td>\n",
       "      <td>528000.0</td>\n",
       "      <td>615000.0</td>\n",
       "      <td>87000.0</td>\n",
       "      <td>16.5</td>\n",
       "      <td>H1</td>\n",
       "    </tr>\n",
       "    <tr>\n",
       "      <th>22</th>\n",
       "      <td>2123039032</td>\n",
       "      <td>369900.0</td>\n",
       "      <td>429592.0</td>\n",
       "      <td>59692.0</td>\n",
       "      <td>16.1</td>\n",
       "      <td>H1</td>\n",
       "    </tr>\n",
       "    <tr>\n",
       "      <th>20</th>\n",
       "      <td>9536600010</td>\n",
       "      <td>520000.0</td>\n",
       "      <td>597500.0</td>\n",
       "      <td>77500.0</td>\n",
       "      <td>14.9</td>\n",
       "      <td>H1</td>\n",
       "    </tr>\n",
       "    <tr>\n",
       "      <th>3</th>\n",
       "      <td>7129303070</td>\n",
       "      <td>735000.0</td>\n",
       "      <td>842475.0</td>\n",
       "      <td>107475.0</td>\n",
       "      <td>14.6</td>\n",
       "      <td>H1</td>\n",
       "    </tr>\n",
       "    <tr>\n",
       "      <th>9</th>\n",
       "      <td>8073000495</td>\n",
       "      <td>700000.0</td>\n",
       "      <td>790000.0</td>\n",
       "      <td>90000.0</td>\n",
       "      <td>12.9</td>\n",
       "      <td>H1</td>\n",
       "    </tr>\n",
       "    <tr>\n",
       "      <th>10</th>\n",
       "      <td>8073000491</td>\n",
       "      <td>700000.0</td>\n",
       "      <td>790000.0</td>\n",
       "      <td>90000.0</td>\n",
       "      <td>12.9</td>\n",
       "      <td>H1</td>\n",
       "    </tr>\n",
       "    <tr>\n",
       "      <th>0</th>\n",
       "      <td>121039042</td>\n",
       "      <td>425000.0</td>\n",
       "      <td>464000.0</td>\n",
       "      <td>39000.0</td>\n",
       "      <td>9.2</td>\n",
       "      <td>H1</td>\n",
       "    </tr>\n",
       "    <tr>\n",
       "      <th>1</th>\n",
       "      <td>2923039243</td>\n",
       "      <td>340000.0</td>\n",
       "      <td>370000.0</td>\n",
       "      <td>30000.0</td>\n",
       "      <td>8.8</td>\n",
       "      <td>H1</td>\n",
       "    </tr>\n",
       "    <tr>\n",
       "      <th>4</th>\n",
       "      <td>6329000050</td>\n",
       "      <td>641500.0</td>\n",
       "      <td>695750.0</td>\n",
       "      <td>54250.0</td>\n",
       "      <td>8.5</td>\n",
       "      <td>H1</td>\n",
       "    </tr>\n",
       "    <tr>\n",
       "      <th>7</th>\n",
       "      <td>6102400166</td>\n",
       "      <td>649000.0</td>\n",
       "      <td>685000.0</td>\n",
       "      <td>36000.0</td>\n",
       "      <td>5.5</td>\n",
       "      <td>H1</td>\n",
       "    </tr>\n",
       "    <tr>\n",
       "      <th>18</th>\n",
       "      <td>7567600030</td>\n",
       "      <td>750000.0</td>\n",
       "      <td>787500.0</td>\n",
       "      <td>37500.0</td>\n",
       "      <td>5.0</td>\n",
       "      <td>H1</td>\n",
       "    </tr>\n",
       "    <tr>\n",
       "      <th>21</th>\n",
       "      <td>3222049087</td>\n",
       "      <td>570000.0</td>\n",
       "      <td>597500.0</td>\n",
       "      <td>27500.0</td>\n",
       "      <td>4.8</td>\n",
       "      <td>H1</td>\n",
       "    </tr>\n",
       "    <tr>\n",
       "      <th>6</th>\n",
       "      <td>8096000060</td>\n",
       "      <td>655000.0</td>\n",
       "      <td>685000.0</td>\n",
       "      <td>30000.0</td>\n",
       "      <td>4.6</td>\n",
       "      <td>H1</td>\n",
       "    </tr>\n",
       "    <tr>\n",
       "      <th>14</th>\n",
       "      <td>1822039138</td>\n",
       "      <td>600000.0</td>\n",
       "      <td>615000.0</td>\n",
       "      <td>15000.0</td>\n",
       "      <td>2.5</td>\n",
       "      <td>H1</td>\n",
       "    </tr>\n",
       "    <tr>\n",
       "      <th>15</th>\n",
       "      <td>7558800620</td>\n",
       "      <td>600000.0</td>\n",
       "      <td>615000.0</td>\n",
       "      <td>15000.0</td>\n",
       "      <td>2.5</td>\n",
       "      <td>H1</td>\n",
       "    </tr>\n",
       "  </tbody>\n",
       "</table>\n",
       "</div>"
      ],
      "text/plain": [
       "            id     price  median_price  estimate_profit  estimate_profit%  \\\n",
       "12  3523029041  290000.0      615000.0         325000.0             112.1   \n",
       "11  2013802030  357000.0      650000.0         293000.0              82.1   \n",
       "8   7631800110  380000.0      685000.0         305000.0              80.3   \n",
       "17  5216200090  385000.0      615000.0         230000.0              59.7   \n",
       "2   2781600195  285000.0      370000.0          85000.0              29.8   \n",
       "5   6329000185  540000.0      695750.0         155750.0              28.8   \n",
       "13  1922039062  480000.0      615000.0         135000.0              28.1   \n",
       "23   222029026  340000.0      429592.0          89592.0              26.4   \n",
       "19  2013802060  500000.0      597500.0          97500.0              19.5   \n",
       "16  7003200120  528000.0      615000.0          87000.0              16.5   \n",
       "22  2123039032  369900.0      429592.0          59692.0              16.1   \n",
       "20  9536600010  520000.0      597500.0          77500.0              14.9   \n",
       "3   7129303070  735000.0      842475.0         107475.0              14.6   \n",
       "9   8073000495  700000.0      790000.0          90000.0              12.9   \n",
       "10  8073000491  700000.0      790000.0          90000.0              12.9   \n",
       "0    121039042  425000.0      464000.0          39000.0               9.2   \n",
       "1   2923039243  340000.0      370000.0          30000.0               8.8   \n",
       "4   6329000050  641500.0      695750.0          54250.0               8.5   \n",
       "7   6102400166  649000.0      685000.0          36000.0               5.5   \n",
       "18  7567600030  750000.0      787500.0          37500.0               5.0   \n",
       "21  3222049087  570000.0      597500.0          27500.0               4.8   \n",
       "6   8096000060  655000.0      685000.0          30000.0               4.6   \n",
       "14  1822039138  600000.0      615000.0          15000.0               2.5   \n",
       "15  7558800620  600000.0      615000.0          15000.0               2.5   \n",
       "\n",
       "   hypothesis  \n",
       "12         H1  \n",
       "11         H1  \n",
       "8          H1  \n",
       "17         H1  \n",
       "2          H1  \n",
       "5          H1  \n",
       "13         H1  \n",
       "23         H1  \n",
       "19         H1  \n",
       "16         H1  \n",
       "22         H1  \n",
       "20         H1  \n",
       "3          H1  \n",
       "9          H1  \n",
       "10         H1  \n",
       "0          H1  \n",
       "1          H1  \n",
       "4          H1  \n",
       "7          H1  \n",
       "18         H1  \n",
       "21         H1  \n",
       "6          H1  \n",
       "14         H1  \n",
       "15         H1  "
      ]
     },
     "execution_count": 82,
     "metadata": {},
     "output_type": "execute_result"
    }
   ],
   "source": [
    "print(sample_h1.shape)\n",
    "sample_h1.sort_values('estimate_profit%', inplace = True, ascending = False)\n",
    "houses_to_buy = sample_h1[['id','price','median_price','estimate_profit','estimate_profit%','hypothesis']]\n",
    "houses_to_buy.to_csv('dataset/sample_h1.csv', index = False)\n",
    "houses_to_buy"
   ]
  },
  {
   "cell_type": "code",
   "execution_count": 79,
   "id": "581f465d",
   "metadata": {},
   "outputs": [
    {
     "name": "stdout",
     "output_type": "stream",
     "text": [
      "(8314, 26)\n",
      "(50, 6)\n"
     ]
    },
    {
     "data": {
      "text/html": [
       "<div>\n",
       "<style scoped>\n",
       "    .dataframe tbody tr th:only-of-type {\n",
       "        vertical-align: middle;\n",
       "    }\n",
       "\n",
       "    .dataframe tbody tr th {\n",
       "        vertical-align: top;\n",
       "    }\n",
       "\n",
       "    .dataframe thead th {\n",
       "        text-align: right;\n",
       "    }\n",
       "</style>\n",
       "<table border=\"1\" class=\"dataframe\">\n",
       "  <thead>\n",
       "    <tr style=\"text-align: right;\">\n",
       "      <th></th>\n",
       "      <th>id</th>\n",
       "      <th>date</th>\n",
       "      <th>price</th>\n",
       "      <th>bedrooms</th>\n",
       "      <th>bathrooms</th>\n",
       "      <th>sqft_living</th>\n",
       "      <th>sqft_lot</th>\n",
       "      <th>floors</th>\n",
       "      <th>waterfront</th>\n",
       "      <th>view</th>\n",
       "      <th>...</th>\n",
       "      <th>zipcode</th>\n",
       "      <th>lat</th>\n",
       "      <th>long</th>\n",
       "      <th>sqft_living15</th>\n",
       "      <th>sqft_lot15</th>\n",
       "      <th>median_price</th>\n",
       "      <th>estimate_profit</th>\n",
       "      <th>estimate_profit%</th>\n",
       "      <th>x%_lower</th>\n",
       "      <th>hypothesis</th>\n",
       "    </tr>\n",
       "  </thead>\n",
       "  <tbody>\n",
       "    <tr>\n",
       "      <th>0</th>\n",
       "      <td>1238500451</td>\n",
       "      <td>20150209T000000</td>\n",
       "      <td>130000.0</td>\n",
       "      <td>3</td>\n",
       "      <td>1.0</td>\n",
       "      <td>1110</td>\n",
       "      <td>7520</td>\n",
       "      <td>1.0</td>\n",
       "      <td>0</td>\n",
       "      <td>0</td>\n",
       "      <td>...</td>\n",
       "      <td>98033</td>\n",
       "      <td>47.6830</td>\n",
       "      <td>-122.176</td>\n",
       "      <td>1440</td>\n",
       "      <td>8400</td>\n",
       "      <td>519500.0</td>\n",
       "      <td>389500.0</td>\n",
       "      <td>299.6</td>\n",
       "      <td>75.0</td>\n",
       "      <td>H5</td>\n",
       "    </tr>\n",
       "    <tr>\n",
       "      <th>1</th>\n",
       "      <td>6840700165</td>\n",
       "      <td>20140701T000000</td>\n",
       "      <td>202000.0</td>\n",
       "      <td>1</td>\n",
       "      <td>1.0</td>\n",
       "      <td>590</td>\n",
       "      <td>833</td>\n",
       "      <td>1.0</td>\n",
       "      <td>0</td>\n",
       "      <td>0</td>\n",
       "      <td>...</td>\n",
       "      <td>98122</td>\n",
       "      <td>47.6082</td>\n",
       "      <td>-122.299</td>\n",
       "      <td>780</td>\n",
       "      <td>1617</td>\n",
       "      <td>800000.0</td>\n",
       "      <td>598000.0</td>\n",
       "      <td>296.0</td>\n",
       "      <td>74.8</td>\n",
       "      <td>H5</td>\n",
       "    </tr>\n",
       "    <tr>\n",
       "      <th>2</th>\n",
       "      <td>1049010620</td>\n",
       "      <td>20140513T000000</td>\n",
       "      <td>90000.0</td>\n",
       "      <td>2</td>\n",
       "      <td>1.0</td>\n",
       "      <td>790</td>\n",
       "      <td>2640</td>\n",
       "      <td>1.0</td>\n",
       "      <td>0</td>\n",
       "      <td>0</td>\n",
       "      <td>...</td>\n",
       "      <td>98034</td>\n",
       "      <td>47.7351</td>\n",
       "      <td>-122.178</td>\n",
       "      <td>1310</td>\n",
       "      <td>2064</td>\n",
       "      <td>335000.0</td>\n",
       "      <td>245000.0</td>\n",
       "      <td>272.2</td>\n",
       "      <td>73.1</td>\n",
       "      <td>H5</td>\n",
       "    </tr>\n",
       "    <tr>\n",
       "      <th>3</th>\n",
       "      <td>5016003230</td>\n",
       "      <td>20150218T000000</td>\n",
       "      <td>169317.0</td>\n",
       "      <td>2</td>\n",
       "      <td>1.0</td>\n",
       "      <td>790</td>\n",
       "      <td>4000</td>\n",
       "      <td>1.0</td>\n",
       "      <td>0</td>\n",
       "      <td>2</td>\n",
       "      <td>...</td>\n",
       "      <td>98112</td>\n",
       "      <td>47.6248</td>\n",
       "      <td>-122.301</td>\n",
       "      <td>1700</td>\n",
       "      <td>4200</td>\n",
       "      <td>600000.0</td>\n",
       "      <td>430683.0</td>\n",
       "      <td>254.4</td>\n",
       "      <td>71.8</td>\n",
       "      <td>H5</td>\n",
       "    </tr>\n",
       "    <tr>\n",
       "      <th>4</th>\n",
       "      <td>2870000040</td>\n",
       "      <td>20141110T000000</td>\n",
       "      <td>145000.0</td>\n",
       "      <td>2</td>\n",
       "      <td>1.0</td>\n",
       "      <td>800</td>\n",
       "      <td>8125</td>\n",
       "      <td>1.0</td>\n",
       "      <td>0</td>\n",
       "      <td>0</td>\n",
       "      <td>...</td>\n",
       "      <td>98033</td>\n",
       "      <td>47.6836</td>\n",
       "      <td>-122.174</td>\n",
       "      <td>2390</td>\n",
       "      <td>8125</td>\n",
       "      <td>460500.0</td>\n",
       "      <td>315500.0</td>\n",
       "      <td>217.6</td>\n",
       "      <td>68.5</td>\n",
       "      <td>H5</td>\n",
       "    </tr>\n",
       "  </tbody>\n",
       "</table>\n",
       "<p>5 rows × 26 columns</p>\n",
       "</div>"
      ],
      "text/plain": [
       "           id             date     price  bedrooms  bathrooms  sqft_living  \\\n",
       "0  1238500451  20150209T000000  130000.0         3        1.0         1110   \n",
       "1  6840700165  20140701T000000  202000.0         1        1.0          590   \n",
       "2  1049010620  20140513T000000   90000.0         2        1.0          790   \n",
       "3  5016003230  20150218T000000  169317.0         2        1.0          790   \n",
       "4  2870000040  20141110T000000  145000.0         2        1.0          800   \n",
       "\n",
       "   sqft_lot  floors  waterfront  view  ...  zipcode      lat     long  \\\n",
       "0      7520     1.0           0     0  ...    98033  47.6830 -122.176   \n",
       "1       833     1.0           0     0  ...    98122  47.6082 -122.299   \n",
       "2      2640     1.0           0     0  ...    98034  47.7351 -122.178   \n",
       "3      4000     1.0           0     2  ...    98112  47.6248 -122.301   \n",
       "4      8125     1.0           0     0  ...    98033  47.6836 -122.174   \n",
       "\n",
       "   sqft_living15  sqft_lot15  median_price  estimate_profit  estimate_profit%  \\\n",
       "0           1440        8400      519500.0         389500.0             299.6   \n",
       "1            780        1617      800000.0         598000.0             296.0   \n",
       "2           1310        2064      335000.0         245000.0             272.2   \n",
       "3           1700        4200      600000.0         430683.0             254.4   \n",
       "4           2390        8125      460500.0         315500.0             217.6   \n",
       "\n",
       "   x%_lower  hypothesis  \n",
       "0      75.0          H5  \n",
       "1      74.8          H5  \n",
       "2      73.1          H5  \n",
       "3      71.8          H5  \n",
       "4      68.5          H5  \n",
       "\n",
       "[5 rows x 26 columns]"
      ]
     },
     "execution_count": 79,
     "metadata": {},
     "output_type": "execute_result"
    }
   ],
   "source": [
    "print(sample_h5.shape)\n",
    "sample_h5.sort_values('estimate_profit%', inplace = True, ascending = False)\n",
    "houses_to_buy = sample_h5[['id','price','median_price','estimate_profit','estimate_profit%','hypothesis']].head(50)\n",
    "houses_to_buy.to_csv('dataset/sample_h5.csv', index = False)\n",
    "sample_h5.head()"
   ]
  },
  {
   "cell_type": "code",
   "execution_count": 81,
   "id": "2c01a566",
   "metadata": {},
   "outputs": [
    {
     "name": "stdout",
     "output_type": "stream",
     "text": [
      "(10927, 26)\n"
     ]
    },
    {
     "data": {
      "text/html": [
       "<div>\n",
       "<style scoped>\n",
       "    .dataframe tbody tr th:only-of-type {\n",
       "        vertical-align: middle;\n",
       "    }\n",
       "\n",
       "    .dataframe tbody tr th {\n",
       "        vertical-align: top;\n",
       "    }\n",
       "\n",
       "    .dataframe thead th {\n",
       "        text-align: right;\n",
       "    }\n",
       "</style>\n",
       "<table border=\"1\" class=\"dataframe\">\n",
       "  <thead>\n",
       "    <tr style=\"text-align: right;\">\n",
       "      <th></th>\n",
       "      <th>id</th>\n",
       "      <th>date</th>\n",
       "      <th>price</th>\n",
       "      <th>bedrooms</th>\n",
       "      <th>bathrooms</th>\n",
       "      <th>sqft_living</th>\n",
       "      <th>sqft_lot</th>\n",
       "      <th>floors</th>\n",
       "      <th>waterfront</th>\n",
       "      <th>view</th>\n",
       "      <th>...</th>\n",
       "      <th>zipcode</th>\n",
       "      <th>lat</th>\n",
       "      <th>long</th>\n",
       "      <th>sqft_living15</th>\n",
       "      <th>sqft_lot15</th>\n",
       "      <th>median_price</th>\n",
       "      <th>estimate_profit</th>\n",
       "      <th>estimate_profit%</th>\n",
       "      <th>x%_lower</th>\n",
       "      <th>hypothesis</th>\n",
       "    </tr>\n",
       "  </thead>\n",
       "  <tbody>\n",
       "    <tr>\n",
       "      <th>5583</th>\n",
       "      <td>7999600180</td>\n",
       "      <td>20140529T000000</td>\n",
       "      <td>83000.0</td>\n",
       "      <td>2</td>\n",
       "      <td>1.0</td>\n",
       "      <td>900</td>\n",
       "      <td>8580</td>\n",
       "      <td>1.0</td>\n",
       "      <td>0</td>\n",
       "      <td>0</td>\n",
       "      <td>...</td>\n",
       "      <td>98168</td>\n",
       "      <td>47.4727</td>\n",
       "      <td>-122.270</td>\n",
       "      <td>2060</td>\n",
       "      <td>6533</td>\n",
       "      <td>297024.180</td>\n",
       "      <td>214024.180</td>\n",
       "      <td>257.9</td>\n",
       "      <td>72.1</td>\n",
       "      <td>H8</td>\n",
       "    </tr>\n",
       "    <tr>\n",
       "      <th>10789</th>\n",
       "      <td>40000362</td>\n",
       "      <td>20140506T000000</td>\n",
       "      <td>78000.0</td>\n",
       "      <td>2</td>\n",
       "      <td>1.0</td>\n",
       "      <td>780</td>\n",
       "      <td>16344</td>\n",
       "      <td>1.0</td>\n",
       "      <td>0</td>\n",
       "      <td>0</td>\n",
       "      <td>...</td>\n",
       "      <td>98168</td>\n",
       "      <td>47.4739</td>\n",
       "      <td>-122.280</td>\n",
       "      <td>1700</td>\n",
       "      <td>10387</td>\n",
       "      <td>276940.956</td>\n",
       "      <td>198940.956</td>\n",
       "      <td>255.1</td>\n",
       "      <td>71.8</td>\n",
       "      <td>H8</td>\n",
       "    </tr>\n",
       "    <tr>\n",
       "      <th>5088</th>\n",
       "      <td>1322049150</td>\n",
       "      <td>20150305T000000</td>\n",
       "      <td>85000.0</td>\n",
       "      <td>2</td>\n",
       "      <td>1.0</td>\n",
       "      <td>910</td>\n",
       "      <td>9753</td>\n",
       "      <td>1.0</td>\n",
       "      <td>0</td>\n",
       "      <td>0</td>\n",
       "      <td>...</td>\n",
       "      <td>98032</td>\n",
       "      <td>47.3897</td>\n",
       "      <td>-122.236</td>\n",
       "      <td>1160</td>\n",
       "      <td>7405</td>\n",
       "      <td>298697.782</td>\n",
       "      <td>213697.782</td>\n",
       "      <td>251.4</td>\n",
       "      <td>71.5</td>\n",
       "      <td>H8</td>\n",
       "    </tr>\n",
       "    <tr>\n",
       "      <th>8729</th>\n",
       "      <td>4239400300</td>\n",
       "      <td>20141129T000000</td>\n",
       "      <td>90000.0</td>\n",
       "      <td>3</td>\n",
       "      <td>1.0</td>\n",
       "      <td>980</td>\n",
       "      <td>2490</td>\n",
       "      <td>2.0</td>\n",
       "      <td>0</td>\n",
       "      <td>0</td>\n",
       "      <td>...</td>\n",
       "      <td>98092</td>\n",
       "      <td>47.3170</td>\n",
       "      <td>-122.182</td>\n",
       "      <td>980</td>\n",
       "      <td>3154</td>\n",
       "      <td>310412.996</td>\n",
       "      <td>220412.996</td>\n",
       "      <td>244.9</td>\n",
       "      <td>71.0</td>\n",
       "      <td>H8</td>\n",
       "    </tr>\n",
       "    <tr>\n",
       "      <th>5957</th>\n",
       "      <td>3421079032</td>\n",
       "      <td>20150217T000000</td>\n",
       "      <td>75000.0</td>\n",
       "      <td>1</td>\n",
       "      <td>0.0</td>\n",
       "      <td>670</td>\n",
       "      <td>43377</td>\n",
       "      <td>1.0</td>\n",
       "      <td>0</td>\n",
       "      <td>0</td>\n",
       "      <td>...</td>\n",
       "      <td>98022</td>\n",
       "      <td>47.2638</td>\n",
       "      <td>-121.906</td>\n",
       "      <td>1160</td>\n",
       "      <td>42882</td>\n",
       "      <td>258531.334</td>\n",
       "      <td>183531.334</td>\n",
       "      <td>244.7</td>\n",
       "      <td>71.0</td>\n",
       "      <td>H8</td>\n",
       "    </tr>\n",
       "  </tbody>\n",
       "</table>\n",
       "<p>5 rows × 26 columns</p>\n",
       "</div>"
      ],
      "text/plain": [
       "               id             date    price  bedrooms  bathrooms  sqft_living  \\\n",
       "5583   7999600180  20140529T000000  83000.0         2        1.0          900   \n",
       "10789    40000362  20140506T000000  78000.0         2        1.0          780   \n",
       "5088   1322049150  20150305T000000  85000.0         2        1.0          910   \n",
       "8729   4239400300  20141129T000000  90000.0         3        1.0          980   \n",
       "5957   3421079032  20150217T000000  75000.0         1        0.0          670   \n",
       "\n",
       "       sqft_lot  floors  waterfront  view  ...  zipcode      lat     long  \\\n",
       "5583       8580     1.0           0     0  ...    98168  47.4727 -122.270   \n",
       "10789     16344     1.0           0     0  ...    98168  47.4739 -122.280   \n",
       "5088       9753     1.0           0     0  ...    98032  47.3897 -122.236   \n",
       "8729       2490     2.0           0     0  ...    98092  47.3170 -122.182   \n",
       "5957      43377     1.0           0     0  ...    98022  47.2638 -121.906   \n",
       "\n",
       "       sqft_living15  sqft_lot15  median_price  estimate_profit  \\\n",
       "5583            2060        6533    297024.180       214024.180   \n",
       "10789           1700       10387    276940.956       198940.956   \n",
       "5088            1160        7405    298697.782       213697.782   \n",
       "8729             980        3154    310412.996       220412.996   \n",
       "5957            1160       42882    258531.334       183531.334   \n",
       "\n",
       "       estimate_profit%  x%_lower  hypothesis  \n",
       "5583              257.9      72.1          H8  \n",
       "10789             255.1      71.8          H8  \n",
       "5088              251.4      71.5          H8  \n",
       "8729              244.9      71.0          H8  \n",
       "5957              244.7      71.0          H8  \n",
       "\n",
       "[5 rows x 26 columns]"
      ]
     },
     "execution_count": 81,
     "metadata": {},
     "output_type": "execute_result"
    }
   ],
   "source": [
    "print(sample_h8.shape)\n",
    "sample_h8.sort_values('estimate_profit%', inplace = True, ascending = False)\n",
    "houses_to_buy = sample_h8[['id','price','median_price','estimate_profit','estimate_profit%','hypothesis']].head(50)\n",
    "houses_to_buy.to_csv('dataset/sample_h8.csv', index = False)\n",
    "sample_h8.head()"
   ]
  },
  {
   "cell_type": "code",
   "execution_count": 69,
   "id": "78a3f2cc",
   "metadata": {},
   "outputs": [
    {
     "name": "stdout",
     "output_type": "stream",
     "text": [
      "(284, 26)\n"
     ]
    },
    {
     "data": {
      "text/html": [
       "<div>\n",
       "<style scoped>\n",
       "    .dataframe tbody tr th:only-of-type {\n",
       "        vertical-align: middle;\n",
       "    }\n",
       "\n",
       "    .dataframe tbody tr th {\n",
       "        vertical-align: top;\n",
       "    }\n",
       "\n",
       "    .dataframe thead th {\n",
       "        text-align: right;\n",
       "    }\n",
       "</style>\n",
       "<table border=\"1\" class=\"dataframe\">\n",
       "  <thead>\n",
       "    <tr style=\"text-align: right;\">\n",
       "      <th></th>\n",
       "      <th>id</th>\n",
       "      <th>date</th>\n",
       "      <th>price</th>\n",
       "      <th>bedrooms</th>\n",
       "      <th>bathrooms</th>\n",
       "      <th>sqft_living</th>\n",
       "      <th>sqft_lot</th>\n",
       "      <th>floors</th>\n",
       "      <th>waterfront</th>\n",
       "      <th>view</th>\n",
       "      <th>...</th>\n",
       "      <th>zipcode</th>\n",
       "      <th>lat</th>\n",
       "      <th>long</th>\n",
       "      <th>sqft_living15</th>\n",
       "      <th>sqft_lot15</th>\n",
       "      <th>median_price</th>\n",
       "      <th>estimate_profit</th>\n",
       "      <th>estimate_profit%</th>\n",
       "      <th>x%_lower</th>\n",
       "      <th>hypothesis</th>\n",
       "    </tr>\n",
       "  </thead>\n",
       "  <tbody>\n",
       "    <tr>\n",
       "      <th>75</th>\n",
       "      <td>2626119062</td>\n",
       "      <td>20141112T000000</td>\n",
       "      <td>155000.0</td>\n",
       "      <td>3</td>\n",
       "      <td>1.00</td>\n",
       "      <td>1300</td>\n",
       "      <td>6098</td>\n",
       "      <td>1.0</td>\n",
       "      <td>0</td>\n",
       "      <td>0</td>\n",
       "      <td>...</td>\n",
       "      <td>98014</td>\n",
       "      <td>47.7074</td>\n",
       "      <td>-121.364</td>\n",
       "      <td>1300</td>\n",
       "      <td>6849</td>\n",
       "      <td>418000.0</td>\n",
       "      <td>263000.0</td>\n",
       "      <td>169.7</td>\n",
       "      <td>62.9</td>\n",
       "      <td>H()</td>\n",
       "    </tr>\n",
       "    <tr>\n",
       "      <th>231</th>\n",
       "      <td>7242800020</td>\n",
       "      <td>20140815T000000</td>\n",
       "      <td>277140.0</td>\n",
       "      <td>3</td>\n",
       "      <td>1.50</td>\n",
       "      <td>1190</td>\n",
       "      <td>785</td>\n",
       "      <td>2.0</td>\n",
       "      <td>0</td>\n",
       "      <td>0</td>\n",
       "      <td>...</td>\n",
       "      <td>98052</td>\n",
       "      <td>47.6781</td>\n",
       "      <td>-122.117</td>\n",
       "      <td>2820</td>\n",
       "      <td>5626</td>\n",
       "      <td>674000.0</td>\n",
       "      <td>396860.0</td>\n",
       "      <td>143.2</td>\n",
       "      <td>58.9</td>\n",
       "      <td>H()</td>\n",
       "    </tr>\n",
       "    <tr>\n",
       "      <th>248</th>\n",
       "      <td>5528600005</td>\n",
       "      <td>20150327T000000</td>\n",
       "      <td>272167.0</td>\n",
       "      <td>2</td>\n",
       "      <td>2.50</td>\n",
       "      <td>1620</td>\n",
       "      <td>3795</td>\n",
       "      <td>2.0</td>\n",
       "      <td>0</td>\n",
       "      <td>0</td>\n",
       "      <td>...</td>\n",
       "      <td>98027</td>\n",
       "      <td>47.5321</td>\n",
       "      <td>-122.034</td>\n",
       "      <td>1620</td>\n",
       "      <td>6000</td>\n",
       "      <td>580000.0</td>\n",
       "      <td>307833.0</td>\n",
       "      <td>113.1</td>\n",
       "      <td>53.1</td>\n",
       "      <td>H()</td>\n",
       "    </tr>\n",
       "    <tr>\n",
       "      <th>283</th>\n",
       "      <td>844000965</td>\n",
       "      <td>20140626T000000</td>\n",
       "      <td>224000.0</td>\n",
       "      <td>3</td>\n",
       "      <td>1.75</td>\n",
       "      <td>1500</td>\n",
       "      <td>11968</td>\n",
       "      <td>1.0</td>\n",
       "      <td>0</td>\n",
       "      <td>0</td>\n",
       "      <td>...</td>\n",
       "      <td>98010</td>\n",
       "      <td>47.3095</td>\n",
       "      <td>-122.002</td>\n",
       "      <td>1320</td>\n",
       "      <td>11303</td>\n",
       "      <td>460000.0</td>\n",
       "      <td>236000.0</td>\n",
       "      <td>105.4</td>\n",
       "      <td>51.3</td>\n",
       "      <td>H()</td>\n",
       "    </tr>\n",
       "    <tr>\n",
       "      <th>145</th>\n",
       "      <td>6056100150</td>\n",
       "      <td>20140623T000000</td>\n",
       "      <td>160797.0</td>\n",
       "      <td>3</td>\n",
       "      <td>1.50</td>\n",
       "      <td>1270</td>\n",
       "      <td>2356</td>\n",
       "      <td>2.0</td>\n",
       "      <td>0</td>\n",
       "      <td>0</td>\n",
       "      <td>...</td>\n",
       "      <td>98108</td>\n",
       "      <td>47.5671</td>\n",
       "      <td>-122.298</td>\n",
       "      <td>1490</td>\n",
       "      <td>2175</td>\n",
       "      <td>330000.0</td>\n",
       "      <td>169203.0</td>\n",
       "      <td>105.2</td>\n",
       "      <td>51.3</td>\n",
       "      <td>H()</td>\n",
       "    </tr>\n",
       "  </tbody>\n",
       "</table>\n",
       "<p>5 rows × 26 columns</p>\n",
       "</div>"
      ],
      "text/plain": [
       "             id             date     price  bedrooms  bathrooms  sqft_living  \\\n",
       "75   2626119062  20141112T000000  155000.0         3       1.00         1300   \n",
       "231  7242800020  20140815T000000  277140.0         3       1.50         1190   \n",
       "248  5528600005  20150327T000000  272167.0         2       2.50         1620   \n",
       "283   844000965  20140626T000000  224000.0         3       1.75         1500   \n",
       "145  6056100150  20140623T000000  160797.0         3       1.50         1270   \n",
       "\n",
       "     sqft_lot  floors  waterfront  view  ...  zipcode      lat     long  \\\n",
       "75       6098     1.0           0     0  ...    98014  47.7074 -121.364   \n",
       "231       785     2.0           0     0  ...    98052  47.6781 -122.117   \n",
       "248      3795     2.0           0     0  ...    98027  47.5321 -122.034   \n",
       "283     11968     1.0           0     0  ...    98010  47.3095 -122.002   \n",
       "145      2356     2.0           0     0  ...    98108  47.5671 -122.298   \n",
       "\n",
       "     sqft_living15  sqft_lot15  median_price  estimate_profit  \\\n",
       "75            1300        6849      418000.0         263000.0   \n",
       "231           2820        5626      674000.0         396860.0   \n",
       "248           1620        6000      580000.0         307833.0   \n",
       "283           1320       11303      460000.0         236000.0   \n",
       "145           1490        2175      330000.0         169203.0   \n",
       "\n",
       "     estimate_profit%  x%_lower  hypothesis  \n",
       "75              169.7      62.9         H()  \n",
       "231             143.2      58.9         H()  \n",
       "248             113.1      53.1         H()  \n",
       "283             105.4      51.3         H()  \n",
       "145             105.2      51.3         H()  \n",
       "\n",
       "[5 rows x 26 columns]"
      ]
     },
     "execution_count": 69,
     "metadata": {},
     "output_type": "execute_result"
    }
   ],
   "source": [
    "print(sample_h9.shape)\n",
    "sample_h9.sort_values('estimate_profit%', inplace = True, ascending = False)\n",
    "houses_to_buy = sample_h9[['id','price','median_price','estimate_profit','estimate_profit%','hypothesis']]\n",
    "houses_to_buy.to_csv('dataset/sample_h9.csv', index = False)\n",
    "sample_h9.head()"
   ]
  },
  {
   "cell_type": "code",
   "execution_count": 52,
   "id": "5a7e71e5",
   "metadata": {},
   "outputs": [
    {
     "data": {
      "text/html": [
       "<div>\n",
       "<style scoped>\n",
       "    .dataframe tbody tr th:only-of-type {\n",
       "        vertical-align: middle;\n",
       "    }\n",
       "\n",
       "    .dataframe tbody tr th {\n",
       "        vertical-align: top;\n",
       "    }\n",
       "\n",
       "    .dataframe thead th {\n",
       "        text-align: right;\n",
       "    }\n",
       "</style>\n",
       "<table border=\"1\" class=\"dataframe\">\n",
       "  <thead>\n",
       "    <tr style=\"text-align: right;\">\n",
       "      <th></th>\n",
       "      <th>id</th>\n",
       "      <th>price</th>\n",
       "      <th>median_price</th>\n",
       "      <th>estimate_profit</th>\n",
       "      <th>estimate_profit%</th>\n",
       "      <th>hypothesis</th>\n",
       "    </tr>\n",
       "  </thead>\n",
       "  <tbody>\n",
       "    <tr>\n",
       "      <th>12</th>\n",
       "      <td>3523029041</td>\n",
       "      <td>290000.0</td>\n",
       "      <td>615000.0</td>\n",
       "      <td>325000.0</td>\n",
       "      <td>112.1</td>\n",
       "      <td>H1</td>\n",
       "    </tr>\n",
       "    <tr>\n",
       "      <th>8</th>\n",
       "      <td>7631800110</td>\n",
       "      <td>380000.0</td>\n",
       "      <td>685000.0</td>\n",
       "      <td>305000.0</td>\n",
       "      <td>80.3</td>\n",
       "      <td>H1</td>\n",
       "    </tr>\n",
       "    <tr>\n",
       "      <th>11</th>\n",
       "      <td>2013802030</td>\n",
       "      <td>357000.0</td>\n",
       "      <td>650000.0</td>\n",
       "      <td>293000.0</td>\n",
       "      <td>82.1</td>\n",
       "      <td>H1</td>\n",
       "    </tr>\n",
       "    <tr>\n",
       "      <th>17</th>\n",
       "      <td>5216200090</td>\n",
       "      <td>385000.0</td>\n",
       "      <td>615000.0</td>\n",
       "      <td>230000.0</td>\n",
       "      <td>59.7</td>\n",
       "      <td>H1</td>\n",
       "    </tr>\n",
       "    <tr>\n",
       "      <th>5</th>\n",
       "      <td>6329000185</td>\n",
       "      <td>540000.0</td>\n",
       "      <td>695750.0</td>\n",
       "      <td>155750.0</td>\n",
       "      <td>28.8</td>\n",
       "      <td>H1</td>\n",
       "    </tr>\n",
       "  </tbody>\n",
       "</table>\n",
       "</div>"
      ],
      "text/plain": [
       "            id     price  median_price  estimate_profit  estimate_profit%  \\\n",
       "12  3523029041  290000.0      615000.0         325000.0             112.1   \n",
       "8   7631800110  380000.0      685000.0         305000.0              80.3   \n",
       "11  2013802030  357000.0      650000.0         293000.0              82.1   \n",
       "17  5216200090  385000.0      615000.0         230000.0              59.7   \n",
       "5   6329000185  540000.0      695750.0         155750.0              28.8   \n",
       "\n",
       "   hypothesis  \n",
       "12         H1  \n",
       "8          H1  \n",
       "11         H1  \n",
       "17         H1  \n",
       "5          H1  "
      ]
     },
     "execution_count": 52,
     "metadata": {},
     "output_type": "execute_result"
    }
   ],
   "source": [
    "houses_to_buy = sample_h1[['id','price','median_price', 'estimate_profit','estimate_profit%','hypothesis']]\n",
    "houses_to_buy.head()\n"
   ]
  },
  {
   "cell_type": "code",
   "execution_count": null,
   "id": "cf7260a0",
   "metadata": {},
   "outputs": [],
   "source": []
  }
 ],
 "metadata": {
  "kernelspec": {
   "display_name": "Python 3",
   "language": "python",
   "name": "python3"
  },
  "language_info": {
   "codemirror_mode": {
    "name": "ipython",
    "version": 3
   },
   "file_extension": ".py",
   "mimetype": "text/x-python",
   "name": "python",
   "nbconvert_exporter": "python",
   "pygments_lexer": "ipython3",
   "version": "3.8.8"
  }
 },
 "nbformat": 4,
 "nbformat_minor": 5
}
